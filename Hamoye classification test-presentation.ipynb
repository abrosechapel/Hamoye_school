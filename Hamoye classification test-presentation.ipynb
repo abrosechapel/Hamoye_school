{
 "cells": [
  {
   "cell_type": "markdown",
   "id": "27fa0350",
   "metadata": {},
   "source": [
    "# Machine Learning Classification Quiz"
   ]
  },
  {
   "cell_type": "markdown",
   "id": "f6bcdf0a",
   "metadata": {},
   "source": [
    "Previous steps:"
   ]
  },
  {
   "cell_type": "code",
   "execution_count": 1,
   "id": "a881e567",
   "metadata": {},
   "outputs": [],
   "source": [
    "import pandas as pd\n",
    "\n",
    "df = pd.read_csv( 'Data_for_UCI_named.csv' )"
   ]
  },
  {
   "cell_type": "code",
   "execution_count": 2,
   "id": "96b229de",
   "metadata": {},
   "outputs": [
    {
     "data": {
      "text/plain": [
       "tau1     0\n",
       "tau2     0\n",
       "tau3     0\n",
       "tau4     0\n",
       "p1       0\n",
       "p2       0\n",
       "p3       0\n",
       "p4       0\n",
       "g1       0\n",
       "g2       0\n",
       "g3       0\n",
       "g4       0\n",
       "stab     0\n",
       "stabf    0\n",
       "dtype: int64"
      ]
     },
     "execution_count": 2,
     "metadata": {},
     "output_type": "execute_result"
    }
   ],
   "source": [
    "df.isna().sum()"
   ]
  },
  {
   "cell_type": "code",
   "execution_count": 3,
   "id": "766be0ef",
   "metadata": {},
   "outputs": [
    {
     "data": {
      "text/plain": [
       "unstable    6380\n",
       "stable      3620\n",
       "Name: stabf, dtype: int64"
      ]
     },
     "execution_count": 3,
     "metadata": {},
     "output_type": "execute_result"
    }
   ],
   "source": [
    "df.stabf.value_counts()"
   ]
  },
  {
   "cell_type": "code",
   "execution_count": 4,
   "id": "99fb1617",
   "metadata": {},
   "outputs": [
    {
     "data": {
      "text/html": [
       "<div>\n",
       "<style scoped>\n",
       "    .dataframe tbody tr th:only-of-type {\n",
       "        vertical-align: middle;\n",
       "    }\n",
       "\n",
       "    .dataframe tbody tr th {\n",
       "        vertical-align: top;\n",
       "    }\n",
       "\n",
       "    .dataframe thead th {\n",
       "        text-align: right;\n",
       "    }\n",
       "</style>\n",
       "<table border=\"1\" class=\"dataframe\">\n",
       "  <thead>\n",
       "    <tr style=\"text-align: right;\">\n",
       "      <th></th>\n",
       "      <th>tau1</th>\n",
       "      <th>tau2</th>\n",
       "      <th>tau3</th>\n",
       "      <th>tau4</th>\n",
       "      <th>p1</th>\n",
       "      <th>p2</th>\n",
       "      <th>p3</th>\n",
       "      <th>p4</th>\n",
       "      <th>g1</th>\n",
       "      <th>g2</th>\n",
       "      <th>g3</th>\n",
       "      <th>g4</th>\n",
       "      <th>stab</th>\n",
       "      <th>stabf</th>\n",
       "    </tr>\n",
       "  </thead>\n",
       "  <tbody>\n",
       "    <tr>\n",
       "      <th>0</th>\n",
       "      <td>2.959060</td>\n",
       "      <td>3.079885</td>\n",
       "      <td>8.381025</td>\n",
       "      <td>9.780754</td>\n",
       "      <td>3.763085</td>\n",
       "      <td>-0.782604</td>\n",
       "      <td>-1.257395</td>\n",
       "      <td>-1.723086</td>\n",
       "      <td>0.650456</td>\n",
       "      <td>0.859578</td>\n",
       "      <td>0.887445</td>\n",
       "      <td>0.958034</td>\n",
       "      <td>0.055347</td>\n",
       "      <td>unstable</td>\n",
       "    </tr>\n",
       "    <tr>\n",
       "      <th>1</th>\n",
       "      <td>9.304097</td>\n",
       "      <td>4.902524</td>\n",
       "      <td>3.047541</td>\n",
       "      <td>1.369357</td>\n",
       "      <td>5.067812</td>\n",
       "      <td>-1.940058</td>\n",
       "      <td>-1.872742</td>\n",
       "      <td>-1.255012</td>\n",
       "      <td>0.413441</td>\n",
       "      <td>0.862414</td>\n",
       "      <td>0.562139</td>\n",
       "      <td>0.781760</td>\n",
       "      <td>-0.005957</td>\n",
       "      <td>stable</td>\n",
       "    </tr>\n",
       "    <tr>\n",
       "      <th>2</th>\n",
       "      <td>8.971707</td>\n",
       "      <td>8.848428</td>\n",
       "      <td>3.046479</td>\n",
       "      <td>1.214518</td>\n",
       "      <td>3.405158</td>\n",
       "      <td>-1.207456</td>\n",
       "      <td>-1.277210</td>\n",
       "      <td>-0.920492</td>\n",
       "      <td>0.163041</td>\n",
       "      <td>0.766689</td>\n",
       "      <td>0.839444</td>\n",
       "      <td>0.109853</td>\n",
       "      <td>0.003471</td>\n",
       "      <td>unstable</td>\n",
       "    </tr>\n",
       "    <tr>\n",
       "      <th>3</th>\n",
       "      <td>0.716415</td>\n",
       "      <td>7.669600</td>\n",
       "      <td>4.486641</td>\n",
       "      <td>2.340563</td>\n",
       "      <td>3.963791</td>\n",
       "      <td>-1.027473</td>\n",
       "      <td>-1.938944</td>\n",
       "      <td>-0.997374</td>\n",
       "      <td>0.446209</td>\n",
       "      <td>0.976744</td>\n",
       "      <td>0.929381</td>\n",
       "      <td>0.362718</td>\n",
       "      <td>0.028871</td>\n",
       "      <td>unstable</td>\n",
       "    </tr>\n",
       "    <tr>\n",
       "      <th>4</th>\n",
       "      <td>3.134112</td>\n",
       "      <td>7.608772</td>\n",
       "      <td>4.943759</td>\n",
       "      <td>9.857573</td>\n",
       "      <td>3.525811</td>\n",
       "      <td>-1.125531</td>\n",
       "      <td>-1.845975</td>\n",
       "      <td>-0.554305</td>\n",
       "      <td>0.797110</td>\n",
       "      <td>0.455450</td>\n",
       "      <td>0.656947</td>\n",
       "      <td>0.820923</td>\n",
       "      <td>0.049860</td>\n",
       "      <td>unstable</td>\n",
       "    </tr>\n",
       "  </tbody>\n",
       "</table>\n",
       "</div>"
      ],
      "text/plain": [
       "       tau1      tau2      tau3      tau4        p1        p2        p3  \\\n",
       "0  2.959060  3.079885  8.381025  9.780754  3.763085 -0.782604 -1.257395   \n",
       "1  9.304097  4.902524  3.047541  1.369357  5.067812 -1.940058 -1.872742   \n",
       "2  8.971707  8.848428  3.046479  1.214518  3.405158 -1.207456 -1.277210   \n",
       "3  0.716415  7.669600  4.486641  2.340563  3.963791 -1.027473 -1.938944   \n",
       "4  3.134112  7.608772  4.943759  9.857573  3.525811 -1.125531 -1.845975   \n",
       "\n",
       "         p4        g1        g2        g3        g4      stab     stabf  \n",
       "0 -1.723086  0.650456  0.859578  0.887445  0.958034  0.055347  unstable  \n",
       "1 -1.255012  0.413441  0.862414  0.562139  0.781760 -0.005957    stable  \n",
       "2 -0.920492  0.163041  0.766689  0.839444  0.109853  0.003471  unstable  \n",
       "3 -0.997374  0.446209  0.976744  0.929381  0.362718  0.028871  unstable  \n",
       "4 -0.554305  0.797110  0.455450  0.656947  0.820923  0.049860  unstable  "
      ]
     },
     "execution_count": 4,
     "metadata": {},
     "output_type": "execute_result"
    }
   ],
   "source": [
    "df.head()"
   ]
  },
  {
   "cell_type": "code",
   "execution_count": 6,
   "id": "609795ac",
   "metadata": {},
   "outputs": [],
   "source": [
    "#encoding\n",
    "from sklearn.preprocessing import LabelEncoder\n",
    "encoder = LabelEncoder()\n",
    "df['stabf']= encoder.fit_transform(df['stabf'])"
   ]
  },
  {
   "cell_type": "code",
   "execution_count": 7,
   "id": "956d8caa",
   "metadata": {},
   "outputs": [],
   "source": [
    "X = df.drop(columns= 'stabf' )\n",
    "X = X.drop(columns= 'stab' )\n",
    "y = df[ 'stabf' ]"
   ]
  },
  {
   "cell_type": "code",
   "execution_count": 23,
   "id": "7c7f6ee3",
   "metadata": {},
   "outputs": [
    {
     "data": {
      "text/plain": [
       "1    5092\n",
       "0    2908\n",
       "Name: stabf, dtype: int64"
      ]
     },
     "execution_count": 23,
     "metadata": {},
     "output_type": "execute_result"
    }
   ],
   "source": [
    "from sklearn.model_selection import train_test_split\n",
    "x_train, x_test, y_train, y_test = train_test_split(X, y, test_size= 0.2 , random_state= 1 )\n",
    "y_train.value_counts()"
   ]
  },
  {
   "cell_type": "code",
   "execution_count": 9,
   "id": "2b787048",
   "metadata": {},
   "outputs": [
    {
     "data": {
      "text/html": [
       "<div>\n",
       "<style scoped>\n",
       "    .dataframe tbody tr th:only-of-type {\n",
       "        vertical-align: middle;\n",
       "    }\n",
       "\n",
       "    .dataframe tbody tr th {\n",
       "        vertical-align: top;\n",
       "    }\n",
       "\n",
       "    .dataframe thead th {\n",
       "        text-align: right;\n",
       "    }\n",
       "</style>\n",
       "<table border=\"1\" class=\"dataframe\">\n",
       "  <thead>\n",
       "    <tr style=\"text-align: right;\">\n",
       "      <th></th>\n",
       "      <th>tau1</th>\n",
       "      <th>tau2</th>\n",
       "      <th>tau3</th>\n",
       "      <th>tau4</th>\n",
       "      <th>p1</th>\n",
       "      <th>p2</th>\n",
       "      <th>p3</th>\n",
       "      <th>p4</th>\n",
       "      <th>g1</th>\n",
       "      <th>g2</th>\n",
       "      <th>g3</th>\n",
       "      <th>g4</th>\n",
       "    </tr>\n",
       "  </thead>\n",
       "  <tbody>\n",
       "    <tr>\n",
       "      <th>9394</th>\n",
       "      <td>2.927250</td>\n",
       "      <td>2.422885</td>\n",
       "      <td>3.538161</td>\n",
       "      <td>4.138394</td>\n",
       "      <td>2.554873</td>\n",
       "      <td>-1.476525</td>\n",
       "      <td>-0.560759</td>\n",
       "      <td>-0.517589</td>\n",
       "      <td>0.123158</td>\n",
       "      <td>0.919761</td>\n",
       "      <td>0.902984</td>\n",
       "      <td>0.246253</td>\n",
       "    </tr>\n",
       "    <tr>\n",
       "      <th>898</th>\n",
       "      <td>8.717797</td>\n",
       "      <td>2.063950</td>\n",
       "      <td>5.605202</td>\n",
       "      <td>1.906483</td>\n",
       "      <td>4.688925</td>\n",
       "      <td>-1.081859</td>\n",
       "      <td>-1.881534</td>\n",
       "      <td>-1.725531</td>\n",
       "      <td>0.241479</td>\n",
       "      <td>0.941283</td>\n",
       "      <td>0.251092</td>\n",
       "      <td>0.577665</td>\n",
       "    </tr>\n",
       "    <tr>\n",
       "      <th>2398</th>\n",
       "      <td>9.469112</td>\n",
       "      <td>5.391403</td>\n",
       "      <td>7.627119</td>\n",
       "      <td>1.517214</td>\n",
       "      <td>4.137451</td>\n",
       "      <td>-1.129479</td>\n",
       "      <td>-1.983112</td>\n",
       "      <td>-1.024860</td>\n",
       "      <td>0.508570</td>\n",
       "      <td>0.342558</td>\n",
       "      <td>0.643358</td>\n",
       "      <td>0.134542</td>\n",
       "    </tr>\n",
       "    <tr>\n",
       "      <th>5906</th>\n",
       "      <td>8.954336</td>\n",
       "      <td>0.773566</td>\n",
       "      <td>4.164793</td>\n",
       "      <td>6.589719</td>\n",
       "      <td>3.745118</td>\n",
       "      <td>-0.870429</td>\n",
       "      <td>-1.053599</td>\n",
       "      <td>-1.821090</td>\n",
       "      <td>0.669562</td>\n",
       "      <td>0.151877</td>\n",
       "      <td>0.758348</td>\n",
       "      <td>0.611977</td>\n",
       "    </tr>\n",
       "    <tr>\n",
       "      <th>2343</th>\n",
       "      <td>7.859965</td>\n",
       "      <td>3.267539</td>\n",
       "      <td>9.776655</td>\n",
       "      <td>6.538294</td>\n",
       "      <td>3.349879</td>\n",
       "      <td>-1.337714</td>\n",
       "      <td>-1.436115</td>\n",
       "      <td>-0.576049</td>\n",
       "      <td>0.734077</td>\n",
       "      <td>0.604733</td>\n",
       "      <td>0.314029</td>\n",
       "      <td>0.573387</td>\n",
       "    </tr>\n",
       "  </tbody>\n",
       "</table>\n",
       "</div>"
      ],
      "text/plain": [
       "          tau1      tau2      tau3      tau4        p1        p2        p3  \\\n",
       "9394  2.927250  2.422885  3.538161  4.138394  2.554873 -1.476525 -0.560759   \n",
       "898   8.717797  2.063950  5.605202  1.906483  4.688925 -1.081859 -1.881534   \n",
       "2398  9.469112  5.391403  7.627119  1.517214  4.137451 -1.129479 -1.983112   \n",
       "5906  8.954336  0.773566  4.164793  6.589719  3.745118 -0.870429 -1.053599   \n",
       "2343  7.859965  3.267539  9.776655  6.538294  3.349879 -1.337714 -1.436115   \n",
       "\n",
       "            p4        g1        g2        g3        g4  \n",
       "9394 -0.517589  0.123158  0.919761  0.902984  0.246253  \n",
       "898  -1.725531  0.241479  0.941283  0.251092  0.577665  \n",
       "2398 -1.024860  0.508570  0.342558  0.643358  0.134542  \n",
       "5906 -1.821090  0.669562  0.151877  0.758348  0.611977  \n",
       "2343 -0.576049  0.734077  0.604733  0.314029  0.573387  "
      ]
     },
     "execution_count": 9,
     "metadata": {},
     "output_type": "execute_result"
    }
   ],
   "source": [
    "x_test.head(5)"
   ]
  },
  {
   "cell_type": "code",
   "execution_count": 51,
   "id": "e1cd3835",
   "metadata": {},
   "outputs": [],
   "source": [
    "#SMOTE\n",
    "import imblearn\n",
    "from imblearn.over_sampling import SMOTE\n",
    "smote = SMOTE()\n",
    "x_train_balanced, y_balanced = smote.fit_resample(x_train, y_train)"
   ]
  },
  {
   "cell_type": "code",
   "execution_count": 31,
   "id": "f6f6ad9a",
   "metadata": {},
   "outputs": [],
   "source": [
    "#normalize\n",
    "from sklearn.preprocessing import StandardScaler\n",
    "scaler = StandardScaler()\n",
    "normalised_train_df = scaler.fit_transform(x_train_balanced)\n",
    "normalised_train_df = pd.DataFrame(normalised_train_df,\n",
    "columns=x_train_balanced.columns)\n",
    "\n",
    "normalised_test_df = scaler.transform(x_test)\n",
    "normalised_test_df = pd.DataFrame(normalised_test_df,\n",
    "columns=x_test.columns)"
   ]
  },
  {
   "cell_type": "markdown",
   "id": "5d6b0e89",
   "metadata": {},
   "source": [
    "## P14. What is the accuracy on the test set using the random forest classifier? In 4 decimal places"
   ]
  },
  {
   "cell_type": "code",
   "execution_count": 26,
   "id": "78d5ae3c",
   "metadata": {},
   "outputs": [],
   "source": [
    "from sklearn.metrics import recall_score, accuracy_score, precision_score, f1_score, confusion_matrix\n"
   ]
  },
  {
   "cell_type": "code",
   "execution_count": 52,
   "id": "15dd501f",
   "metadata": {},
   "outputs": [],
   "source": [
    "from sklearn.ensemble import RandomForestClassifier\n",
    "\n",
    "rf_base = RandomForestClassifier()\n",
    "\n",
    "rf_base.fit(normalised_train_df, y_balanced)\n",
    "\n",
    "\n",
    "new_predictions = rf_base.predict(normalised_test_df)\n"
   ]
  },
  {
   "cell_type": "code",
   "execution_count": 53,
   "id": "0c8b43f0",
   "metadata": {},
   "outputs": [
    {
     "name": "stdout",
     "output_type": "stream",
     "text": [
      "0.9095\n"
     ]
    }
   ],
   "source": [
    "accuracy = accuracy_score(y_true=y_test, y_pred=new_predictions)\n",
    "print( round(accuracy,4)) "
   ]
  },
  {
   "cell_type": "markdown",
   "id": "349991ee",
   "metadata": {},
   "source": [
    "## P15. What is the accuracy on the test set using the XGboost classifier? In 4 decimal places."
   ]
  },
  {
   "cell_type": "code",
   "execution_count": 37,
   "id": "36bf75b8",
   "metadata": {},
   "outputs": [],
   "source": [
    "import xgboost as xgb\n",
    "from xgboost import XGBClassifier\n",
    "xgbclf = xgb.XGBClassifier()\n",
    "xgbclf.fit(normalised_train_df, y_balanced)\n",
    "\n",
    "new_predictions2 = xgbclf.predict(normalised_test_df)\n"
   ]
  },
  {
   "cell_type": "code",
   "execution_count": 38,
   "id": "20579bf0",
   "metadata": {},
   "outputs": [
    {
     "name": "stdout",
     "output_type": "stream",
     "text": [
      "0.9415\n"
     ]
    }
   ],
   "source": [
    "accuracy = accuracy_score(y_true=y_test, y_pred=new_predictions2)\n",
    "print(round(accuracy,4))"
   ]
  },
  {
   "cell_type": "markdown",
   "id": "f4ad7d97",
   "metadata": {},
   "source": [
    "## P16. What is the accuracy on the test set using the LGBM classifier? In 4 decimal places."
   ]
  },
  {
   "cell_type": "code",
   "execution_count": 19,
   "id": "5c6e5747",
   "metadata": {},
   "outputs": [],
   "source": [
    "import sys\n",
    "!{sys.executable} -m pip install lightgbm\n",
    "import lightgbm"
   ]
  },
  {
   "cell_type": "code",
   "execution_count": 20,
   "id": "44ae3d43",
   "metadata": {},
   "outputs": [],
   "source": [
    "from lightgbm import LGBMClassifier\n",
    "model = LGBMClassifier()\n",
    "\n",
    "model.fit(normalised_train_df, y_balanced)\n",
    "\n",
    "new_predictions3 = model.predict(normalised_test_df)"
   ]
  },
  {
   "cell_type": "code",
   "execution_count": null,
   "id": "26d817d2",
   "metadata": {},
   "outputs": [],
   "source": [
    "accuracy = accuracy_score(y_true=y_test, y_pred=new_predictions3)\n",
    "print( accuracy) #value: 0.9326"
   ]
  },
  {
   "cell_type": "markdown",
   "id": "b08a4eff",
   "metadata": {},
   "source": [
    "## P17. Using the ExtraTreesClassi er as your estimator with cv=5, n_iter=10, scoring = 'accuracy', n_jobs = -1, verbose = 1 and random_state = 1. What are the best hyperparameters from the randomized search CV?"
   ]
  },
  {
   "cell_type": "code",
   "execution_count": 39,
   "id": "c01af0bd",
   "metadata": {},
   "outputs": [
    {
     "name": "stdout",
     "output_type": "stream",
     "text": [
      "Fitting 5 folds for each of 10 candidates, totalling 50 fits\n"
     ]
    },
    {
     "name": "stderr",
     "output_type": "stream",
     "text": [
      "C:\\Users\\User\\anaconda3\\lib\\site-packages\\sklearn\\model_selection\\_validation.py:378: FitFailedWarning: \n",
      "30 fits failed out of a total of 50.\n",
      "The score on these train-test partitions for these parameters will be set to nan.\n",
      "If these failures are not expected, you can try to debug them by setting error_score='raise'.\n",
      "\n",
      "Below are more details about the failures:\n",
      "--------------------------------------------------------------------------------\n",
      "30 fits failed with the following error:\n",
      "Traceback (most recent call last):\n",
      "  File \"C:\\Users\\User\\anaconda3\\lib\\site-packages\\sklearn\\model_selection\\_validation.py\", line 686, in _fit_and_score\n",
      "    estimator.fit(X_train, y_train, **fit_params)\n",
      "  File \"C:\\Users\\User\\anaconda3\\lib\\site-packages\\sklearn\\ensemble\\_forest.py\", line 476, in fit\n",
      "    trees = Parallel(\n",
      "  File \"C:\\Users\\User\\anaconda3\\lib\\site-packages\\joblib\\parallel.py\", line 1041, in __call__\n",
      "    if self.dispatch_one_batch(iterator):\n",
      "  File \"C:\\Users\\User\\anaconda3\\lib\\site-packages\\joblib\\parallel.py\", line 859, in dispatch_one_batch\n",
      "    self._dispatch(tasks)\n",
      "  File \"C:\\Users\\User\\anaconda3\\lib\\site-packages\\joblib\\parallel.py\", line 777, in _dispatch\n",
      "    job = self._backend.apply_async(batch, callback=cb)\n",
      "  File \"C:\\Users\\User\\anaconda3\\lib\\site-packages\\joblib\\_parallel_backends.py\", line 208, in apply_async\n",
      "    result = ImmediateResult(func)\n",
      "  File \"C:\\Users\\User\\anaconda3\\lib\\site-packages\\joblib\\_parallel_backends.py\", line 572, in __init__\n",
      "    self.results = batch()\n",
      "  File \"C:\\Users\\User\\anaconda3\\lib\\site-packages\\joblib\\parallel.py\", line 262, in __call__\n",
      "    return [func(*args, **kwargs)\n",
      "  File \"C:\\Users\\User\\anaconda3\\lib\\site-packages\\joblib\\parallel.py\", line 262, in <listcomp>\n",
      "    return [func(*args, **kwargs)\n",
      "  File \"C:\\Users\\User\\anaconda3\\lib\\site-packages\\sklearn\\utils\\fixes.py\", line 117, in __call__\n",
      "    return self.function(*args, **kwargs)\n",
      "  File \"C:\\Users\\User\\anaconda3\\lib\\site-packages\\sklearn\\ensemble\\_forest.py\", line 191, in _parallel_build_trees\n",
      "    tree.fit(X, y, sample_weight=sample_weight, check_input=False)\n",
      "  File \"C:\\Users\\User\\anaconda3\\lib\\site-packages\\sklearn\\tree\\_classes.py\", line 969, in fit\n",
      "    super().fit(\n",
      "  File \"C:\\Users\\User\\anaconda3\\lib\\site-packages\\sklearn\\tree\\_classes.py\", line 317, in fit\n",
      "    raise ValueError(\n",
      "ValueError: Invalid value for max_features. Allowed string values are 'auto', 'sqrt' or 'log2'.\n",
      "\n",
      "  warnings.warn(some_fits_failed_message, FitFailedWarning)\n",
      "C:\\Users\\User\\anaconda3\\lib\\site-packages\\sklearn\\model_selection\\_search.py:953: UserWarning: One or more of the test scores are non-finite: [       nan        nan        nan        nan        nan 0.94324549\n",
      "        nan 0.94196886 0.93980897 0.94039763]\n",
      "  warnings.warn(\n"
     ]
    },
    {
     "name": "stdout",
     "output_type": "stream",
     "text": [
      "Best F1-score: 0.9432454889070854 \n",
      "Best param: {'n_estimators': 1000, 'min_samples_split': 5, 'min_samples_leaf': 6, 'max_features': 'log2'}\n",
      "Wall time: 1min 33s\n"
     ]
    }
   ],
   "source": [
    "%%time\n",
    "\n",
    "from sklearn.ensemble import ExtraTreesClassifier\n",
    "from sklearn.model_selection import RandomizedSearchCV\n",
    "\n",
    "\n",
    "clf = ExtraTreesClassifier()\n",
    "clf.fit(normalised_train_df, y_balanced)\n",
    "\n",
    "\n",
    "N_estimators= [100,300,500,1000]\n",
    "min_samples_split =[2,5,7]\n",
    "min_samples_leaf =[4,6,8]\n",
    "max_features =['auto','log2','None']\n",
    "\n",
    "params= dict(\n",
    "                      n_estimators=N_estimators,\n",
    "                      min_samples_split=min_samples_split,\n",
    "                      min_samples_leaf=min_samples_leaf,\n",
    "                      max_features=max_features\n",
    "                 )\n",
    "\n",
    "clf_GS = RandomizedSearchCV(estimator=clf,cv=5, param_distributions=params, n_iter=10,scoring ='accuracy', n_jobs = -1, verbose = 1, random_state = 1)\n",
    "clf_GS.fit(normalised_train_df, y_balanced)\n",
    "\n",
    "\n",
    "print(f'Best F1-score: {clf_GS.best_score_} \\nBest param: {clf_GS.best_params_}') "
   ]
  },
  {
   "cell_type": "markdown",
   "id": "1906ea37",
   "metadata": {},
   "source": [
    "## P18. Train a new ExtraTreesClassi er Model with the new Hyperparameters from the RandomizedSearchCV (with random_state = 1). Is the accuracy of the new optimal model higher or lower than the initial ExtraTreesClassi er model with no hyperparameter tuning?"
   ]
  },
  {
   "cell_type": "code",
   "execution_count": 43,
   "id": "dd0e09da",
   "metadata": {},
   "outputs": [
    {
     "name": "stdout",
     "output_type": "stream",
     "text": [
      "0.9285\n"
     ]
    }
   ],
   "source": [
    "new_predictions4 = clf.predict(normalised_test_df)\n",
    "\n",
    "accuracy = accuracy_score(y_true=y_test, y_pred=new_predictions4)\n",
    "print( round(accuracy,4))"
   ]
  },
  {
   "cell_type": "code",
   "execution_count": 46,
   "id": "09559468",
   "metadata": {},
   "outputs": [
    {
     "name": "stdout",
     "output_type": "stream",
     "text": [
      "0.915\n"
     ]
    }
   ],
   "source": [
    "#New Extra tree Classifier\n",
    "new_clf = ExtraTreesClassifier(n_estimators=1000, min_samples_split=5, min_samples_leaf=6, max_features=\"log2\")\n",
    "new_clf.fit(normalised_train_df, y_balanced)\n",
    "new_predictions5 = new_clf.predict(normalised_test_df)\n",
    "\n",
    "accuracy = accuracy_score(y_true=y_test, y_pred=new_predictions5)\n",
    "print( accuracy) "
   ]
  },
  {
   "cell_type": "markdown",
   "id": "cc2a762d",
   "metadata": {},
   "source": [
    "## P20. Find the feature importance using the optimal ExtraTreesClassifier model. Which features are the most and least important respectively?\n"
   ]
  },
  {
   "cell_type": "code",
   "execution_count": 50,
   "id": "862696eb",
   "metadata": {},
   "outputs": [
    {
     "data": {
      "text/plain": [
       "<AxesSubplot:>"
      ]
     },
     "execution_count": 50,
     "metadata": {},
     "output_type": "execute_result"
    },
    {
     "data": {
      "image/png": "[encoded data removed]",
      "text/plain": [
       "<Figure size 864x648 with 1 Axes>"
      ]
     },
     "metadata": {
      "needs_background": "light"
     },
     "output_type": "display_data"
    }
   ],
   "source": [
    "import matplotlib as plt\n",
    "features_log = pd.DataFrame(clf.feature_importances_, index = X.columns.tolist(), \n",
    "                            columns = ['Importance'])\n",
    "features_log = features_log.sort_values(by='Importance', ascending=True)\n",
    "\n",
    "features_log.plot(kind='barh', figsize=(12,9), color = 'pink')"
   ]
  },
  {
   "cell_type": "code",
   "execution_count": null,
   "id": "78f5045c",
   "metadata": {},
   "outputs": [],
   "source": []
  }
 ],
 "metadata": {
  "kernelspec": {
   "display_name": "Python 3",
   "language": "python",
   "name": "python3"
  },
  "language_info": {
   "codemirror_mode": {
    "name": "ipython",
    "version": 3
   },
   "file_extension": ".py",
   "mimetype": "text/x-python",
   "name": "python",
   "nbconvert_exporter": "python",
   "pygments_lexer": "ipython3",
   "version": "3.8.8"
  }
 },
 "nbformat": 4,
 "nbformat_minor": 5
}
