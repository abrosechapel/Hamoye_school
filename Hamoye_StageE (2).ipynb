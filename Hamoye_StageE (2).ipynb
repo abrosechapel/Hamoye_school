{
  "cells": [
    {
      "cell_type": "markdown",
      "source": [
        "# Stage E Quiz: Time series Analysis & Forecast"
      ],
      "metadata": {
        "id": "FsKdH5ff4GRO"
      }
    },
    {
      "cell_type": "markdown",
      "source": [
        "Install packages:"
      ],
      "metadata": {
        "id": "OYyXw12k4XWr"
      }
    },
    {
      "cell_type": "code",
      "source": [
        "#!pip install fbprophet\n",
        "#import prophet\n",
        "!pip install prophet\n",
        "from prophet import Prophet"
      ],
      "metadata": {
        "colab": {
          "base_uri": "https://localhost:8080/"
        },
        "id": "SCHrVu9dQ3fy",
        "outputId": "b3731ded-2fc4-45a8-9164-63b066588da8"
      },
      "execution_count": 32,
      "outputs": [
        {
          "output_type": "stream",
          "name": "stdout",
          "text": [
            "Requirement already satisfied: prophet in /usr/local/lib/python3.10/dist-packages (1.1.4)\n",
            "Requirement already satisfied: cmdstanpy>=1.0.4 in /usr/local/lib/python3.10/dist-packages (from prophet) (1.1.0)\n",
            "Requirement already satisfied: numpy>=1.15.4 in /usr/local/lib/python3.10/dist-packages (from prophet) (1.22.4)\n",
            "Requirement already satisfied: matplotlib>=2.0.0 in /usr/local/lib/python3.10/dist-packages (from prophet) (3.7.1)\n",
            "Requirement already satisfied: pandas>=1.0.4 in /usr/local/lib/python3.10/dist-packages (from prophet) (1.5.3)\n",
            "Requirement already satisfied: LunarCalendar>=0.0.9 in /usr/local/lib/python3.10/dist-packages (from prophet) (0.0.9)\n",
            "Requirement already satisfied: convertdate>=2.1.2 in /usr/local/lib/python3.10/dist-packages (from prophet) (2.4.0)\n",
            "Requirement already satisfied: holidays>=0.25 in /usr/local/lib/python3.10/dist-packages (from prophet) (0.29)\n",
            "Requirement already satisfied: python-dateutil>=2.8.0 in /usr/local/lib/python3.10/dist-packages (from prophet) (2.8.2)\n",
            "Requirement already satisfied: tqdm>=4.36.1 in /usr/local/lib/python3.10/dist-packages (from prophet) (4.65.0)\n",
            "Requirement already satisfied: importlib-resources in /usr/local/lib/python3.10/dist-packages (from prophet) (6.0.0)\n",
            "Requirement already satisfied: pymeeus<=1,>=0.3.13 in /usr/local/lib/python3.10/dist-packages (from convertdate>=2.1.2->prophet) (0.5.12)\n",
            "Requirement already satisfied: ephem>=3.7.5.3 in /usr/local/lib/python3.10/dist-packages (from LunarCalendar>=0.0.9->prophet) (4.1.4)\n",
            "Requirement already satisfied: pytz in /usr/local/lib/python3.10/dist-packages (from LunarCalendar>=0.0.9->prophet) (2022.7.1)\n",
            "Requirement already satisfied: contourpy>=1.0.1 in /usr/local/lib/python3.10/dist-packages (from matplotlib>=2.0.0->prophet) (1.1.0)\n",
            "Requirement already satisfied: cycler>=0.10 in /usr/local/lib/python3.10/dist-packages (from matplotlib>=2.0.0->prophet) (0.11.0)\n",
            "Requirement already satisfied: fonttools>=4.22.0 in /usr/local/lib/python3.10/dist-packages (from matplotlib>=2.0.0->prophet) (4.41.1)\n",
            "Requirement already satisfied: kiwisolver>=1.0.1 in /usr/local/lib/python3.10/dist-packages (from matplotlib>=2.0.0->prophet) (1.4.4)\n",
            "Requirement already satisfied: packaging>=20.0 in /usr/local/lib/python3.10/dist-packages (from matplotlib>=2.0.0->prophet) (23.1)\n",
            "Requirement already satisfied: pillow>=6.2.0 in /usr/local/lib/python3.10/dist-packages (from matplotlib>=2.0.0->prophet) (9.4.0)\n",
            "Requirement already satisfied: pyparsing>=2.3.1 in /usr/local/lib/python3.10/dist-packages (from matplotlib>=2.0.0->prophet) (3.1.0)\n",
            "Requirement already satisfied: six>=1.5 in /usr/local/lib/python3.10/dist-packages (from python-dateutil>=2.8.0->prophet) (1.16.0)\n"
          ]
        }
      ]
    },
    {
      "cell_type": "code",
      "execution_count": 7,
      "metadata": {
        "id": "pTJ92RO8zHCh"
      },
      "outputs": [],
      "source": [
        "import pandas as pd\n",
        "import csv\n",
        "import matplotlib.pyplot as plt\n"
      ]
    },
    {
      "cell_type": "markdown",
      "source": [
        "## Uploading the dataset:"
      ],
      "metadata": {
        "id": "ImVeKDFz4cLc"
      }
    },
    {
      "cell_type": "code",
      "execution_count": 10,
      "metadata": {
        "colab": {
          "base_uri": "https://localhost:8080/"
        },
        "id": "1l4lNEnWYsKH",
        "outputId": "647d89c8-e600-4d8f-afca-fdbcb2224dbb"
      },
      "outputs": [
        {
          "output_type": "stream",
          "name": "stderr",
          "text": [
            "<ipython-input-10-08dfe06c92c3>:1: FutureWarning: The error_bad_lines argument has been deprecated and will be removed in a future version. Use on_bad_lines in the future.\n",
            "\n",
            "\n",
            "  df=pd.read_csv(\"Time_series_analysis_and_forecast_DATASET.csv\", quoting=csv.QUOTE_NONE, error_bad_lines=False )\n"
          ]
        }
      ],
      "source": [
        "df=pd.read_csv(\"Time_series_analysis_and_forecast_DATASET.csv\", quoting=csv.QUOTE_NONE, error_bad_lines=False )\n"
      ]
    },
    {
      "cell_type": "code",
      "execution_count": 11,
      "metadata": {
        "id": "gA3jlVkGzLo_",
        "colab": {
          "base_uri": "https://localhost:8080/",
          "height": 424
        },
        "outputId": "621fe189-b9b0-4e1f-b27e-6054f3a82369"
      },
      "outputs": [
        {
          "output_type": "execute_result",
          "data": {
            "text/plain": [
              "                  FullDate  Tmax     SysLoad  GasPrice  ElecPrice\n",
              "0      2010-09-01 00:00:00  15.8  1688.21500    3.6900     23.710\n",
              "1      2010-09-01 01:00:00  15.8  1669.19500    3.6900     22.635\n",
              "2      2010-09-01 02:00:00  15.8  1491.98000    3.6900     22.565\n",
              "3      2010-09-01 03:00:00  15.8  1330.76000    3.6900     18.910\n",
              "4      2010-09-01 04:00:00  15.8  1247.94000    3.6900     18.030\n",
              "...                    ...   ...         ...       ...        ...\n",
              "92011  2021-02-28 19:00:00  24.3   449.63625    5.4848    117.925\n",
              "92012  2021-02-28 20:00:00  24.3   815.59975    5.4848     87.880\n",
              "92013  2021-02-28 21:00:00  24.3   745.12325    5.4848     62.060\n",
              "92014  2021-02-28 22:00:00  24.3   694.95150    5.4848     62.000\n",
              "92015  2021-02-28 23:00:00  24.3   714.69630    5.4848     62.955\n",
              "\n",
              "[92016 rows x 5 columns]"
            ],
            "text/html": [
              "\n",
              "\n",
              "  <div id=\"df-c9459117-dbe1-4b2d-8eab-3bfd2ef4d7ef\">\n",
              "    <div class=\"colab-df-container\">\n",
              "      <div>\n",
              "<style scoped>\n",
              "    .dataframe tbody tr th:only-of-type {\n",
              "        vertical-align: middle;\n",
              "    }\n",
              "\n",
              "    .dataframe tbody tr th {\n",
              "        vertical-align: top;\n",
              "    }\n",
              "\n",
              "    .dataframe thead th {\n",
              "        text-align: right;\n",
              "    }\n",
              "</style>\n",
              "<table border=\"1\" class=\"dataframe\">\n",
              "  <thead>\n",
              "    <tr style=\"text-align: right;\">\n",
              "      <th></th>\n",
              "      <th>FullDate</th>\n",
              "      <th>Tmax</th>\n",
              "      <th>SysLoad</th>\n",
              "      <th>GasPrice</th>\n",
              "      <th>ElecPrice</th>\n",
              "    </tr>\n",
              "  </thead>\n",
              "  <tbody>\n",
              "    <tr>\n",
              "      <th>0</th>\n",
              "      <td>2010-09-01 00:00:00</td>\n",
              "      <td>15.8</td>\n",
              "      <td>1688.21500</td>\n",
              "      <td>3.6900</td>\n",
              "      <td>23.710</td>\n",
              "    </tr>\n",
              "    <tr>\n",
              "      <th>1</th>\n",
              "      <td>2010-09-01 01:00:00</td>\n",
              "      <td>15.8</td>\n",
              "      <td>1669.19500</td>\n",
              "      <td>3.6900</td>\n",
              "      <td>22.635</td>\n",
              "    </tr>\n",
              "    <tr>\n",
              "      <th>2</th>\n",
              "      <td>2010-09-01 02:00:00</td>\n",
              "      <td>15.8</td>\n",
              "      <td>1491.98000</td>\n",
              "      <td>3.6900</td>\n",
              "      <td>22.565</td>\n",
              "    </tr>\n",
              "    <tr>\n",
              "      <th>3</th>\n",
              "      <td>2010-09-01 03:00:00</td>\n",
              "      <td>15.8</td>\n",
              "      <td>1330.76000</td>\n",
              "      <td>3.6900</td>\n",
              "      <td>18.910</td>\n",
              "    </tr>\n",
              "    <tr>\n",
              "      <th>4</th>\n",
              "      <td>2010-09-01 04:00:00</td>\n",
              "      <td>15.8</td>\n",
              "      <td>1247.94000</td>\n",
              "      <td>3.6900</td>\n",
              "      <td>18.030</td>\n",
              "    </tr>\n",
              "    <tr>\n",
              "      <th>...</th>\n",
              "      <td>...</td>\n",
              "      <td>...</td>\n",
              "      <td>...</td>\n",
              "      <td>...</td>\n",
              "      <td>...</td>\n",
              "    </tr>\n",
              "    <tr>\n",
              "      <th>92011</th>\n",
              "      <td>2021-02-28 19:00:00</td>\n",
              "      <td>24.3</td>\n",
              "      <td>449.63625</td>\n",
              "      <td>5.4848</td>\n",
              "      <td>117.925</td>\n",
              "    </tr>\n",
              "    <tr>\n",
              "      <th>92012</th>\n",
              "      <td>2021-02-28 20:00:00</td>\n",
              "      <td>24.3</td>\n",
              "      <td>815.59975</td>\n",
              "      <td>5.4848</td>\n",
              "      <td>87.880</td>\n",
              "    </tr>\n",
              "    <tr>\n",
              "      <th>92013</th>\n",
              "      <td>2021-02-28 21:00:00</td>\n",
              "      <td>24.3</td>\n",
              "      <td>745.12325</td>\n",
              "      <td>5.4848</td>\n",
              "      <td>62.060</td>\n",
              "    </tr>\n",
              "    <tr>\n",
              "      <th>92014</th>\n",
              "      <td>2021-02-28 22:00:00</td>\n",
              "      <td>24.3</td>\n",
              "      <td>694.95150</td>\n",
              "      <td>5.4848</td>\n",
              "      <td>62.000</td>\n",
              "    </tr>\n",
              "    <tr>\n",
              "      <th>92015</th>\n",
              "      <td>2021-02-28 23:00:00</td>\n",
              "      <td>24.3</td>\n",
              "      <td>714.69630</td>\n",
              "      <td>5.4848</td>\n",
              "      <td>62.955</td>\n",
              "    </tr>\n",
              "  </tbody>\n",
              "</table>\n",
              "<p>92016 rows × 5 columns</p>\n",
              "</div>\n",
              "      <button class=\"colab-df-convert\" onclick=\"convertToInteractive('df-c9459117-dbe1-4b2d-8eab-3bfd2ef4d7ef')\"\n",
              "              title=\"Convert this dataframe to an interactive table.\"\n",
              "              style=\"display:none;\">\n",
              "\n",
              "  <svg xmlns=\"http://www.w3.org/2000/svg\" height=\"24px\"viewBox=\"0 0 24 24\"\n",
              "       width=\"24px\">\n",
              "    <path d=\"M0 0h24v24H0V0z\" fill=\"none\"/>\n",
              "    <path d=\"M18.56 5.44l.94 2.06.94-2.06 2.06-.94-2.06-.94-.94-2.06-.94 2.06-2.06.94zm-11 1L8.5 8.5l.94-2.06 2.06-.94-2.06-.94L8.5 2.5l-.94 2.06-2.06.94zm10 10l.94 2.06.94-2.06 2.06-.94-2.06-.94-.94-2.06-.94 2.06-2.06.94z\"/><path d=\"M17.41 7.96l-1.37-1.37c-.4-.4-.92-.59-1.43-.59-.52 0-1.04.2-1.43.59L10.3 9.45l-7.72 7.72c-.78.78-.78 2.05 0 2.83L4 21.41c.39.39.9.59 1.41.59.51 0 1.02-.2 1.41-.59l7.78-7.78 2.81-2.81c.8-.78.8-2.07 0-2.86zM5.41 20L4 18.59l7.72-7.72 1.47 1.35L5.41 20z\"/>\n",
              "  </svg>\n",
              "      </button>\n",
              "\n",
              "\n",
              "\n",
              "    <div id=\"df-7e62c8bb-0f17-47c5-a37d-0bd4d9337754\">\n",
              "      <button class=\"colab-df-quickchart\" onclick=\"quickchart('df-7e62c8bb-0f17-47c5-a37d-0bd4d9337754')\"\n",
              "              title=\"Suggest charts.\"\n",
              "              style=\"display:none;\">\n",
              "\n",
              "<svg xmlns=\"http://www.w3.org/2000/svg\" height=\"24px\"viewBox=\"0 0 24 24\"\n",
              "     width=\"24px\">\n",
              "    <g>\n",
              "        <path d=\"M19 3H5c-1.1 0-2 .9-2 2v14c0 1.1.9 2 2 2h14c1.1 0 2-.9 2-2V5c0-1.1-.9-2-2-2zM9 17H7v-7h2v7zm4 0h-2V7h2v10zm4 0h-2v-4h2v4z\"/>\n",
              "    </g>\n",
              "</svg>\n",
              "      </button>\n",
              "    </div>\n",
              "\n",
              "<style>\n",
              "  .colab-df-quickchart {\n",
              "    background-color: #E8F0FE;\n",
              "    border: none;\n",
              "    border-radius: 50%;\n",
              "    cursor: pointer;\n",
              "    display: none;\n",
              "    fill: #1967D2;\n",
              "    height: 32px;\n",
              "    padding: 0 0 0 0;\n",
              "    width: 32px;\n",
              "  }\n",
              "\n",
              "  .colab-df-quickchart:hover {\n",
              "    background-color: #E2EBFA;\n",
              "    box-shadow: 0px 1px 2px rgba(60, 64, 67, 0.3), 0px 1px 3px 1px rgba(60, 64, 67, 0.15);\n",
              "    fill: #174EA6;\n",
              "  }\n",
              "\n",
              "  [theme=dark] .colab-df-quickchart {\n",
              "    background-color: #3B4455;\n",
              "    fill: #D2E3FC;\n",
              "  }\n",
              "\n",
              "  [theme=dark] .colab-df-quickchart:hover {\n",
              "    background-color: #434B5C;\n",
              "    box-shadow: 0px 1px 3px 1px rgba(0, 0, 0, 0.15);\n",
              "    filter: drop-shadow(0px 1px 2px rgba(0, 0, 0, 0.3));\n",
              "    fill: #FFFFFF;\n",
              "  }\n",
              "</style>\n",
              "\n",
              "    <script>\n",
              "      async function quickchart(key) {\n",
              "        const containerElement = document.querySelector('#' + key);\n",
              "        const charts = await google.colab.kernel.invokeFunction(\n",
              "            'suggestCharts', [key], {});\n",
              "      }\n",
              "    </script>\n",
              "\n",
              "      <script>\n",
              "\n",
              "function displayQuickchartButton(domScope) {\n",
              "  let quickchartButtonEl =\n",
              "    domScope.querySelector('#df-7e62c8bb-0f17-47c5-a37d-0bd4d9337754 button.colab-df-quickchart');\n",
              "  quickchartButtonEl.style.display =\n",
              "    google.colab.kernel.accessAllowed ? 'block' : 'none';\n",
              "}\n",
              "\n",
              "        displayQuickchartButton(document);\n",
              "      </script>\n",
              "      <style>\n",
              "    .colab-df-container {\n",
              "      display:flex;\n",
              "      flex-wrap:wrap;\n",
              "      gap: 12px;\n",
              "    }\n",
              "\n",
              "    .colab-df-convert {\n",
              "      background-color: #E8F0FE;\n",
              "      border: none;\n",
              "      border-radius: 50%;\n",
              "      cursor: pointer;\n",
              "      display: none;\n",
              "      fill: #1967D2;\n",
              "      height: 32px;\n",
              "      padding: 0 0 0 0;\n",
              "      width: 32px;\n",
              "    }\n",
              "\n",
              "    .colab-df-convert:hover {\n",
              "      background-color: #E2EBFA;\n",
              "      box-shadow: 0px 1px 2px rgba(60, 64, 67, 0.3), 0px 1px 3px 1px rgba(60, 64, 67, 0.15);\n",
              "      fill: #174EA6;\n",
              "    }\n",
              "\n",
              "    [theme=dark] .colab-df-convert {\n",
              "      background-color: #3B4455;\n",
              "      fill: #D2E3FC;\n",
              "    }\n",
              "\n",
              "    [theme=dark] .colab-df-convert:hover {\n",
              "      background-color: #434B5C;\n",
              "      box-shadow: 0px 1px 3px 1px rgba(0, 0, 0, 0.15);\n",
              "      filter: drop-shadow(0px 1px 2px rgba(0, 0, 0, 0.3));\n",
              "      fill: #FFFFFF;\n",
              "    }\n",
              "  </style>\n",
              "\n",
              "      <script>\n",
              "        const buttonEl =\n",
              "          document.querySelector('#df-c9459117-dbe1-4b2d-8eab-3bfd2ef4d7ef button.colab-df-convert');\n",
              "        buttonEl.style.display =\n",
              "          google.colab.kernel.accessAllowed ? 'block' : 'none';\n",
              "\n",
              "        async function convertToInteractive(key) {\n",
              "          const element = document.querySelector('#df-c9459117-dbe1-4b2d-8eab-3bfd2ef4d7ef');\n",
              "          const dataTable =\n",
              "            await google.colab.kernel.invokeFunction('convertToInteractive',\n",
              "                                                     [key], {});\n",
              "          if (!dataTable) return;\n",
              "\n",
              "          const docLinkHtml = 'Like what you see? Visit the ' +\n",
              "            '<a target=\"_blank\" href=https://colab.research.google.com/notebooks/data_table.ipynb>data table notebook</a>'\n",
              "            + ' to learn more about interactive tables.';\n",
              "          element.innerHTML = '';\n",
              "          dataTable['output_type'] = 'display_data';\n",
              "          await google.colab.output.renderOutput(dataTable, element);\n",
              "          const docLink = document.createElement('div');\n",
              "          docLink.innerHTML = docLinkHtml;\n",
              "          element.appendChild(docLink);\n",
              "        }\n",
              "      </script>\n",
              "    </div>\n",
              "  </div>\n"
            ]
          },
          "metadata": {},
          "execution_count": 11
        }
      ],
      "source": [
        "df"
      ]
    },
    {
      "cell_type": "markdown",
      "source": [
        "Convert the FullDate column into datetime"
      ],
      "metadata": {
        "id": "Za8Gskty4xhB"
      }
    },
    {
      "cell_type": "code",
      "source": [
        "df['FullDate'] = pd.to_datetime(df['FullDate'])\n"
      ],
      "metadata": {
        "id": "QDwDSiC2IKIG"
      },
      "execution_count": 12,
      "outputs": []
    },
    {
      "cell_type": "markdown",
      "source": [
        "Searching for null values:"
      ],
      "metadata": {
        "id": "zJiYotqf45ij"
      }
    },
    {
      "cell_type": "code",
      "source": [
        "df.isnull().values.any()\n"
      ],
      "metadata": {
        "colab": {
          "base_uri": "https://localhost:8080/"
        },
        "id": "2BkmpDjdKXKd",
        "outputId": "28335324-9ff7-41e8-8076-2067a14e1c9a"
      },
      "execution_count": null,
      "outputs": [
        {
          "output_type": "execute_result",
          "data": {
            "text/plain": [
              "False"
            ]
          },
          "metadata": {},
          "execution_count": 5
        }
      ]
    },
    {
      "cell_type": "markdown",
      "source": [
        "Rename columns and apply a daily sampling rate(sum):"
      ],
      "metadata": {
        "id": "2Fy2ZMx_4-oC"
      }
    },
    {
      "cell_type": "code",
      "source": [
        "df_new = df.rename(columns={ \"FullDate\" : \"ds\" , \"ElecPrice\" : \"y\" })\n",
        "df_new = df_new.set_index('ds')\n",
        "df_daily = df_new.resample( 'D' ).sum()"
      ],
      "metadata": {
        "id": "kP32RFx1KjJC"
      },
      "execution_count": 13,
      "outputs": []
    },
    {
      "cell_type": "code",
      "source": [
        "df_daily"
      ],
      "metadata": {
        "colab": {
          "base_uri": "https://localhost:8080/",
          "height": 455
        },
        "id": "E1wu42A5-4pg",
        "outputId": "d4713c26-7c0f-429d-b208-ce169f085b82"
      },
      "execution_count": 72,
      "outputs": [
        {
          "output_type": "execute_result",
          "data": {
            "text/plain": [
              "             Tmax      SysLoad  GasPrice         y\n",
              "ds                                                \n",
              "2010-09-01  379.2  41565.38000   88.5600  2751.700\n",
              "2010-09-02  369.6  38898.99000   88.5600   570.810\n",
              "2010-09-03  439.2  41665.76000  106.8000   504.975\n",
              "2010-09-04  328.8  35638.08500   81.3600   502.275\n",
              "2010-09-05  357.6  35611.41000  106.8000   500.555\n",
              "...           ...          ...       ...       ...\n",
              "2021-02-24  537.6  -1525.49745  134.4000   634.770\n",
              "2021-02-25  518.4   4539.07855  130.5048   577.515\n",
              "2021-02-26  547.2   9517.02430  130.1808  1445.495\n",
              "2021-02-27  564.0   4932.88015  130.0800   488.980\n",
              "2021-02-28  583.2   6675.05485  131.6352   -98.985\n",
              "\n",
              "[3834 rows x 4 columns]"
            ],
            "text/html": [
              "\n",
              "\n",
              "  <div id=\"df-c4e0df7d-8977-4731-83e3-16dc119b4570\">\n",
              "    <div class=\"colab-df-container\">\n",
              "      <div>\n",
              "<style scoped>\n",
              "    .dataframe tbody tr th:only-of-type {\n",
              "        vertical-align: middle;\n",
              "    }\n",
              "\n",
              "    .dataframe tbody tr th {\n",
              "        vertical-align: top;\n",
              "    }\n",
              "\n",
              "    .dataframe thead th {\n",
              "        text-align: right;\n",
              "    }\n",
              "</style>\n",
              "<table border=\"1\" class=\"dataframe\">\n",
              "  <thead>\n",
              "    <tr style=\"text-align: right;\">\n",
              "      <th></th>\n",
              "      <th>Tmax</th>\n",
              "      <th>SysLoad</th>\n",
              "      <th>GasPrice</th>\n",
              "      <th>y</th>\n",
              "    </tr>\n",
              "    <tr>\n",
              "      <th>ds</th>\n",
              "      <th></th>\n",
              "      <th></th>\n",
              "      <th></th>\n",
              "      <th></th>\n",
              "    </tr>\n",
              "  </thead>\n",
              "  <tbody>\n",
              "    <tr>\n",
              "      <th>2010-09-01</th>\n",
              "      <td>379.2</td>\n",
              "      <td>41565.38000</td>\n",
              "      <td>88.5600</td>\n",
              "      <td>2751.700</td>\n",
              "    </tr>\n",
              "    <tr>\n",
              "      <th>2010-09-02</th>\n",
              "      <td>369.6</td>\n",
              "      <td>38898.99000</td>\n",
              "      <td>88.5600</td>\n",
              "      <td>570.810</td>\n",
              "    </tr>\n",
              "    <tr>\n",
              "      <th>2010-09-03</th>\n",
              "      <td>439.2</td>\n",
              "      <td>41665.76000</td>\n",
              "      <td>106.8000</td>\n",
              "      <td>504.975</td>\n",
              "    </tr>\n",
              "    <tr>\n",
              "      <th>2010-09-04</th>\n",
              "      <td>328.8</td>\n",
              "      <td>35638.08500</td>\n",
              "      <td>81.3600</td>\n",
              "      <td>502.275</td>\n",
              "    </tr>\n",
              "    <tr>\n",
              "      <th>2010-09-05</th>\n",
              "      <td>357.6</td>\n",
              "      <td>35611.41000</td>\n",
              "      <td>106.8000</td>\n",
              "      <td>500.555</td>\n",
              "    </tr>\n",
              "    <tr>\n",
              "      <th>...</th>\n",
              "      <td>...</td>\n",
              "      <td>...</td>\n",
              "      <td>...</td>\n",
              "      <td>...</td>\n",
              "    </tr>\n",
              "    <tr>\n",
              "      <th>2021-02-24</th>\n",
              "      <td>537.6</td>\n",
              "      <td>-1525.49745</td>\n",
              "      <td>134.4000</td>\n",
              "      <td>634.770</td>\n",
              "    </tr>\n",
              "    <tr>\n",
              "      <th>2021-02-25</th>\n",
              "      <td>518.4</td>\n",
              "      <td>4539.07855</td>\n",
              "      <td>130.5048</td>\n",
              "      <td>577.515</td>\n",
              "    </tr>\n",
              "    <tr>\n",
              "      <th>2021-02-26</th>\n",
              "      <td>547.2</td>\n",
              "      <td>9517.02430</td>\n",
              "      <td>130.1808</td>\n",
              "      <td>1445.495</td>\n",
              "    </tr>\n",
              "    <tr>\n",
              "      <th>2021-02-27</th>\n",
              "      <td>564.0</td>\n",
              "      <td>4932.88015</td>\n",
              "      <td>130.0800</td>\n",
              "      <td>488.980</td>\n",
              "    </tr>\n",
              "    <tr>\n",
              "      <th>2021-02-28</th>\n",
              "      <td>583.2</td>\n",
              "      <td>6675.05485</td>\n",
              "      <td>131.6352</td>\n",
              "      <td>-98.985</td>\n",
              "    </tr>\n",
              "  </tbody>\n",
              "</table>\n",
              "<p>3834 rows × 4 columns</p>\n",
              "</div>\n",
              "      <button class=\"colab-df-convert\" onclick=\"convertToInteractive('df-c4e0df7d-8977-4731-83e3-16dc119b4570')\"\n",
              "              title=\"Convert this dataframe to an interactive table.\"\n",
              "              style=\"display:none;\">\n",
              "\n",
              "  <svg xmlns=\"http://www.w3.org/2000/svg\" height=\"24px\"viewBox=\"0 0 24 24\"\n",
              "       width=\"24px\">\n",
              "    <path d=\"M0 0h24v24H0V0z\" fill=\"none\"/>\n",
              "    <path d=\"M18.56 5.44l.94 2.06.94-2.06 2.06-.94-2.06-.94-.94-2.06-.94 2.06-2.06.94zm-11 1L8.5 8.5l.94-2.06 2.06-.94-2.06-.94L8.5 2.5l-.94 2.06-2.06.94zm10 10l.94 2.06.94-2.06 2.06-.94-2.06-.94-.94-2.06-.94 2.06-2.06.94z\"/><path d=\"M17.41 7.96l-1.37-1.37c-.4-.4-.92-.59-1.43-.59-.52 0-1.04.2-1.43.59L10.3 9.45l-7.72 7.72c-.78.78-.78 2.05 0 2.83L4 21.41c.39.39.9.59 1.41.59.51 0 1.02-.2 1.41-.59l7.78-7.78 2.81-2.81c.8-.78.8-2.07 0-2.86zM5.41 20L4 18.59l7.72-7.72 1.47 1.35L5.41 20z\"/>\n",
              "  </svg>\n",
              "      </button>\n",
              "\n",
              "\n",
              "\n",
              "    <div id=\"df-9e9096af-093d-4d44-a2ca-16054cc7fc58\">\n",
              "      <button class=\"colab-df-quickchart\" onclick=\"quickchart('df-9e9096af-093d-4d44-a2ca-16054cc7fc58')\"\n",
              "              title=\"Suggest charts.\"\n",
              "              style=\"display:none;\">\n",
              "\n",
              "<svg xmlns=\"http://www.w3.org/2000/svg\" height=\"24px\"viewBox=\"0 0 24 24\"\n",
              "     width=\"24px\">\n",
              "    <g>\n",
              "        <path d=\"M19 3H5c-1.1 0-2 .9-2 2v14c0 1.1.9 2 2 2h14c1.1 0 2-.9 2-2V5c0-1.1-.9-2-2-2zM9 17H7v-7h2v7zm4 0h-2V7h2v10zm4 0h-2v-4h2v4z\"/>\n",
              "    </g>\n",
              "</svg>\n",
              "      </button>\n",
              "    </div>\n",
              "\n",
              "<style>\n",
              "  .colab-df-quickchart {\n",
              "    background-color: #E8F0FE;\n",
              "    border: none;\n",
              "    border-radius: 50%;\n",
              "    cursor: pointer;\n",
              "    display: none;\n",
              "    fill: #1967D2;\n",
              "    height: 32px;\n",
              "    padding: 0 0 0 0;\n",
              "    width: 32px;\n",
              "  }\n",
              "\n",
              "  .colab-df-quickchart:hover {\n",
              "    background-color: #E2EBFA;\n",
              "    box-shadow: 0px 1px 2px rgba(60, 64, 67, 0.3), 0px 1px 3px 1px rgba(60, 64, 67, 0.15);\n",
              "    fill: #174EA6;\n",
              "  }\n",
              "\n",
              "  [theme=dark] .colab-df-quickchart {\n",
              "    background-color: #3B4455;\n",
              "    fill: #D2E3FC;\n",
              "  }\n",
              "\n",
              "  [theme=dark] .colab-df-quickchart:hover {\n",
              "    background-color: #434B5C;\n",
              "    box-shadow: 0px 1px 3px 1px rgba(0, 0, 0, 0.15);\n",
              "    filter: drop-shadow(0px 1px 2px rgba(0, 0, 0, 0.3));\n",
              "    fill: #FFFFFF;\n",
              "  }\n",
              "</style>\n",
              "\n",
              "    <script>\n",
              "      async function quickchart(key) {\n",
              "        const containerElement = document.querySelector('#' + key);\n",
              "        const charts = await google.colab.kernel.invokeFunction(\n",
              "            'suggestCharts', [key], {});\n",
              "      }\n",
              "    </script>\n",
              "\n",
              "      <script>\n",
              "\n",
              "function displayQuickchartButton(domScope) {\n",
              "  let quickchartButtonEl =\n",
              "    domScope.querySelector('#df-9e9096af-093d-4d44-a2ca-16054cc7fc58 button.colab-df-quickchart');\n",
              "  quickchartButtonEl.style.display =\n",
              "    google.colab.kernel.accessAllowed ? 'block' : 'none';\n",
              "}\n",
              "\n",
              "        displayQuickchartButton(document);\n",
              "      </script>\n",
              "      <style>\n",
              "    .colab-df-container {\n",
              "      display:flex;\n",
              "      flex-wrap:wrap;\n",
              "      gap: 12px;\n",
              "    }\n",
              "\n",
              "    .colab-df-convert {\n",
              "      background-color: #E8F0FE;\n",
              "      border: none;\n",
              "      border-radius: 50%;\n",
              "      cursor: pointer;\n",
              "      display: none;\n",
              "      fill: #1967D2;\n",
              "      height: 32px;\n",
              "      padding: 0 0 0 0;\n",
              "      width: 32px;\n",
              "    }\n",
              "\n",
              "    .colab-df-convert:hover {\n",
              "      background-color: #E2EBFA;\n",
              "      box-shadow: 0px 1px 2px rgba(60, 64, 67, 0.3), 0px 1px 3px 1px rgba(60, 64, 67, 0.15);\n",
              "      fill: #174EA6;\n",
              "    }\n",
              "\n",
              "    [theme=dark] .colab-df-convert {\n",
              "      background-color: #3B4455;\n",
              "      fill: #D2E3FC;\n",
              "    }\n",
              "\n",
              "    [theme=dark] .colab-df-convert:hover {\n",
              "      background-color: #434B5C;\n",
              "      box-shadow: 0px 1px 3px 1px rgba(0, 0, 0, 0.15);\n",
              "      filter: drop-shadow(0px 1px 2px rgba(0, 0, 0, 0.3));\n",
              "      fill: #FFFFFF;\n",
              "    }\n",
              "  </style>\n",
              "\n",
              "      <script>\n",
              "        const buttonEl =\n",
              "          document.querySelector('#df-c4e0df7d-8977-4731-83e3-16dc119b4570 button.colab-df-convert');\n",
              "        buttonEl.style.display =\n",
              "          google.colab.kernel.accessAllowed ? 'block' : 'none';\n",
              "\n",
              "        async function convertToInteractive(key) {\n",
              "          const element = document.querySelector('#df-c4e0df7d-8977-4731-83e3-16dc119b4570');\n",
              "          const dataTable =\n",
              "            await google.colab.kernel.invokeFunction('convertToInteractive',\n",
              "                                                     [key], {});\n",
              "          if (!dataTable) return;\n",
              "\n",
              "          const docLinkHtml = 'Like what you see? Visit the ' +\n",
              "            '<a target=\"_blank\" href=https://colab.research.google.com/notebooks/data_table.ipynb>data table notebook</a>'\n",
              "            + ' to learn more about interactive tables.';\n",
              "          element.innerHTML = '';\n",
              "          dataTable['output_type'] = 'display_data';\n",
              "          await google.colab.output.renderOutput(dataTable, element);\n",
              "          const docLink = document.createElement('div');\n",
              "          docLink.innerHTML = docLinkHtml;\n",
              "          element.appendChild(docLink);\n",
              "        }\n",
              "      </script>\n",
              "    </div>\n",
              "  </div>\n"
            ]
          },
          "metadata": {},
          "execution_count": 72
        }
      ]
    },
    {
      "cell_type": "markdown",
      "source": [
        "## Question 11"
      ],
      "metadata": {
        "id": "WeCFMmXw74SR"
      }
    },
    {
      "cell_type": "code",
      "source": [
        "plt.figure(figsize=( 10 , 6 ))\n",
        "plt.plot(df_daily.index, df_daily.y, '--' , marker= '*' , )\n",
        "plt.grid()\n",
        "plt.xlabel( 'Year' )\n",
        "plt.ylabel( 'Electric Price' )\n"
      ],
      "metadata": {
        "colab": {
          "base_uri": "https://localhost:8080/",
          "height": 559
        },
        "id": "1rRDPjlO7u1c",
        "outputId": "c51b423f-fa12-4793-ed26-4f479fee0b5d"
      },
      "execution_count": 63,
      "outputs": [
        {
          "output_type": "execute_result",
          "data": {
            "text/plain": [
              "Text(0, 0.5, 'Electric Price')"
            ]
          },
          "metadata": {},
          "execution_count": 63
        },
        {
          "output_type": "display_data",
          "data": {
            "text/plain": [
              "<Figure size 1000x600 with 1 Axes>"
            ],
            "image/png": "[encoded data removed]"
          },
          "metadata": {}
        }
      ]
    },
    {
      "cell_type": "markdown",
      "source": [
        "## Question 12\n"
      ],
      "metadata": {
        "id": "L5AKFuWq7a-n"
      }
    },
    {
      "cell_type": "code",
      "source": [
        "from statsmodels.tsa.stattools import adfuller\n",
        "adf_result = adfuller(df_daily['SysLoad'])\n",
        "print('ADF Statistic:', adf_result[ 0 ] )\n",
        "print( 'p-value:', adf_result[ 1 ] )\n",
        "\n"
      ],
      "metadata": {
        "colab": {
          "base_uri": "https://localhost:8080/"
        },
        "id": "2amXbg9vwLEJ",
        "outputId": "ba30809c-18ce-49e1-c5d4-63f0ea2bef9e"
      },
      "execution_count": 70,
      "outputs": [
        {
          "output_type": "stream",
          "name": "stdout",
          "text": [
            "ADF Statistic: -3.6901589888366493\n",
            "p-value: 0.004253725504574063\n"
          ]
        }
      ]
    },
    {
      "cell_type": "code",
      "source": [
        "adf_result = adfuller(df_daily['GasPrice'])\n",
        "print('ADF Statistic:', adf_result[ 0 ] )\n",
        "print( 'p-value:', adf_result[ 1 ] )"
      ],
      "metadata": {
        "colab": {
          "base_uri": "https://localhost:8080/"
        },
        "id": "6eOOQ-XZ8hXq",
        "outputId": "e5511b2a-3a6c-4d6c-a606-cc484d2d3898"
      },
      "execution_count": 66,
      "outputs": [
        {
          "output_type": "stream",
          "name": "stdout",
          "text": [
            "ADF Statistic: -2.902766697165179\n",
            "p-value: 0.04502721288462552\n"
          ]
        }
      ]
    },
    {
      "cell_type": "markdown",
      "source": [
        "## Question 13"
      ],
      "metadata": {
        "id": "tli9VfGq90Z3"
      }
    },
    {
      "cell_type": "code",
      "source": [
        "from statsmodels.tsa.stattools import adfuller\n",
        "#10% GasPrice\n",
        "adf_result = adfuller(df_daily['GasPrice'])\n",
        "print( 'Critical Values:' )\n",
        "for k, v in adf_result[ 4 ].items():\n",
        "    print( k, v )"
      ],
      "metadata": {
        "colab": {
          "base_uri": "https://localhost:8080/"
        },
        "id": "7qB8pvdm95J0",
        "outputId": "fc9dc517-5e66-4a5c-eb77-a9172c233be5"
      },
      "execution_count": 68,
      "outputs": [
        {
          "output_type": "stream",
          "name": "stdout",
          "text": [
            "Critical Values:\n",
            "1% -3.4320693157877544\n",
            "5% -2.8622996992165364\n",
            "10% -2.5671743978048323\n"
          ]
        }
      ]
    },
    {
      "cell_type": "code",
      "source": [
        "from statsmodels.tsa.stattools import adfuller\n",
        "#5% ElecPrice\n",
        "adf_result = adfuller(df_daily['y'])\n",
        "print( 'Critical Values:' )\n",
        "for k, v in adf_result[ 4 ].items():\n",
        "    print( k, v )"
      ],
      "metadata": {
        "colab": {
          "base_uri": "https://localhost:8080/"
        },
        "id": "l5-aVtkd-Run",
        "outputId": "43dcb390-8e11-47e2-fb3e-22408afc548d"
      },
      "execution_count": 71,
      "outputs": [
        {
          "output_type": "stream",
          "name": "stdout",
          "text": [
            "Critical Values:\n",
            "1% -3.432066157296446\n",
            "5% -2.8622983040036005\n",
            "10% -2.5671736550459663\n"
          ]
        }
      ]
    },
    {
      "cell_type": "markdown",
      "source": [
        "## Split in train and test"
      ],
      "metadata": {
        "id": "rNnVBBzp_Rsa"
      }
    },
    {
      "cell_type": "code",
      "source": [
        "train=df_daily[0:2757]"
      ],
      "metadata": {
        "id": "qrbETxwGLNnI"
      },
      "execution_count": 151,
      "outputs": []
    },
    {
      "cell_type": "code",
      "source": [
        "train"
      ],
      "metadata": {
        "colab": {
          "base_uri": "https://localhost:8080/",
          "height": 455
        },
        "id": "kRHFLYprPMSe",
        "outputId": "1f4a7b5e-b80f-48a3-b9d7-34861a30b1fe"
      },
      "execution_count": null,
      "outputs": [
        {
          "output_type": "execute_result",
          "data": {
            "text/plain": [
              "             Tmax      SysLoad  GasPrice         y\n",
              "ds                                                \n",
              "2010-09-01  379.2  41565.38000   88.5600  2751.700\n",
              "2010-09-02  369.6  38898.99000   88.5600   570.810\n",
              "2010-09-03  439.2  41665.76000  106.8000   504.975\n",
              "2010-09-04  328.8  35638.08500   81.3600   502.275\n",
              "2010-09-05  357.6  35611.41000  106.8000   500.555\n",
              "...           ...          ...       ...       ...\n",
              "2018-03-15  609.6  27139.02585  220.6272  2717.340\n",
              "2018-03-16  648.0  19710.46400  216.9600  2277.335\n",
              "2018-03-17  724.8   1079.34705  209.0400  1718.385\n",
              "2018-03-18  508.8  -4102.43795  203.9880  1088.015\n",
              "2018-03-19  561.6   8731.39945  199.2720  1998.305\n",
              "\n",
              "[2757 rows x 4 columns]"
            ],
            "text/html": [
              "\n",
              "\n",
              "  <div id=\"df-42f1c174-bcf4-4301-9aea-d7b3b18735f0\">\n",
              "    <div class=\"colab-df-container\">\n",
              "      <div>\n",
              "<style scoped>\n",
              "    .dataframe tbody tr th:only-of-type {\n",
              "        vertical-align: middle;\n",
              "    }\n",
              "\n",
              "    .dataframe tbody tr th {\n",
              "        vertical-align: top;\n",
              "    }\n",
              "\n",
              "    .dataframe thead th {\n",
              "        text-align: right;\n",
              "    }\n",
              "</style>\n",
              "<table border=\"1\" class=\"dataframe\">\n",
              "  <thead>\n",
              "    <tr style=\"text-align: right;\">\n",
              "      <th></th>\n",
              "      <th>Tmax</th>\n",
              "      <th>SysLoad</th>\n",
              "      <th>GasPrice</th>\n",
              "      <th>y</th>\n",
              "    </tr>\n",
              "    <tr>\n",
              "      <th>ds</th>\n",
              "      <th></th>\n",
              "      <th></th>\n",
              "      <th></th>\n",
              "      <th></th>\n",
              "    </tr>\n",
              "  </thead>\n",
              "  <tbody>\n",
              "    <tr>\n",
              "      <th>2010-09-01</th>\n",
              "      <td>379.2</td>\n",
              "      <td>41565.38000</td>\n",
              "      <td>88.5600</td>\n",
              "      <td>2751.700</td>\n",
              "    </tr>\n",
              "    <tr>\n",
              "      <th>2010-09-02</th>\n",
              "      <td>369.6</td>\n",
              "      <td>38898.99000</td>\n",
              "      <td>88.5600</td>\n",
              "      <td>570.810</td>\n",
              "    </tr>\n",
              "    <tr>\n",
              "      <th>2010-09-03</th>\n",
              "      <td>439.2</td>\n",
              "      <td>41665.76000</td>\n",
              "      <td>106.8000</td>\n",
              "      <td>504.975</td>\n",
              "    </tr>\n",
              "    <tr>\n",
              "      <th>2010-09-04</th>\n",
              "      <td>328.8</td>\n",
              "      <td>35638.08500</td>\n",
              "      <td>81.3600</td>\n",
              "      <td>502.275</td>\n",
              "    </tr>\n",
              "    <tr>\n",
              "      <th>2010-09-05</th>\n",
              "      <td>357.6</td>\n",
              "      <td>35611.41000</td>\n",
              "      <td>106.8000</td>\n",
              "      <td>500.555</td>\n",
              "    </tr>\n",
              "    <tr>\n",
              "      <th>...</th>\n",
              "      <td>...</td>\n",
              "      <td>...</td>\n",
              "      <td>...</td>\n",
              "      <td>...</td>\n",
              "    </tr>\n",
              "    <tr>\n",
              "      <th>2018-03-15</th>\n",
              "      <td>609.6</td>\n",
              "      <td>27139.02585</td>\n",
              "      <td>220.6272</td>\n",
              "      <td>2717.340</td>\n",
              "    </tr>\n",
              "    <tr>\n",
              "      <th>2018-03-16</th>\n",
              "      <td>648.0</td>\n",
              "      <td>19710.46400</td>\n",
              "      <td>216.9600</td>\n",
              "      <td>2277.335</td>\n",
              "    </tr>\n",
              "    <tr>\n",
              "      <th>2018-03-17</th>\n",
              "      <td>724.8</td>\n",
              "      <td>1079.34705</td>\n",
              "      <td>209.0400</td>\n",
              "      <td>1718.385</td>\n",
              "    </tr>\n",
              "    <tr>\n",
              "      <th>2018-03-18</th>\n",
              "      <td>508.8</td>\n",
              "      <td>-4102.43795</td>\n",
              "      <td>203.9880</td>\n",
              "      <td>1088.015</td>\n",
              "    </tr>\n",
              "    <tr>\n",
              "      <th>2018-03-19</th>\n",
              "      <td>561.6</td>\n",
              "      <td>8731.39945</td>\n",
              "      <td>199.2720</td>\n",
              "      <td>1998.305</td>\n",
              "    </tr>\n",
              "  </tbody>\n",
              "</table>\n",
              "<p>2757 rows × 4 columns</p>\n",
              "</div>\n",
              "      <button class=\"colab-df-convert\" onclick=\"convertToInteractive('df-42f1c174-bcf4-4301-9aea-d7b3b18735f0')\"\n",
              "              title=\"Convert this dataframe to an interactive table.\"\n",
              "              style=\"display:none;\">\n",
              "\n",
              "  <svg xmlns=\"http://www.w3.org/2000/svg\" height=\"24px\"viewBox=\"0 0 24 24\"\n",
              "       width=\"24px\">\n",
              "    <path d=\"M0 0h24v24H0V0z\" fill=\"none\"/>\n",
              "    <path d=\"M18.56 5.44l.94 2.06.94-2.06 2.06-.94-2.06-.94-.94-2.06-.94 2.06-2.06.94zm-11 1L8.5 8.5l.94-2.06 2.06-.94-2.06-.94L8.5 2.5l-.94 2.06-2.06.94zm10 10l.94 2.06.94-2.06 2.06-.94-2.06-.94-.94-2.06-.94 2.06-2.06.94z\"/><path d=\"M17.41 7.96l-1.37-1.37c-.4-.4-.92-.59-1.43-.59-.52 0-1.04.2-1.43.59L10.3 9.45l-7.72 7.72c-.78.78-.78 2.05 0 2.83L4 21.41c.39.39.9.59 1.41.59.51 0 1.02-.2 1.41-.59l7.78-7.78 2.81-2.81c.8-.78.8-2.07 0-2.86zM5.41 20L4 18.59l7.72-7.72 1.47 1.35L5.41 20z\"/>\n",
              "  </svg>\n",
              "      </button>\n",
              "\n",
              "\n",
              "\n",
              "    <div id=\"df-2552bd6f-5292-44bc-8bcc-4d9b298439e3\">\n",
              "      <button class=\"colab-df-quickchart\" onclick=\"quickchart('df-2552bd6f-5292-44bc-8bcc-4d9b298439e3')\"\n",
              "              title=\"Suggest charts.\"\n",
              "              style=\"display:none;\">\n",
              "\n",
              "<svg xmlns=\"http://www.w3.org/2000/svg\" height=\"24px\"viewBox=\"0 0 24 24\"\n",
              "     width=\"24px\">\n",
              "    <g>\n",
              "        <path d=\"M19 3H5c-1.1 0-2 .9-2 2v14c0 1.1.9 2 2 2h14c1.1 0 2-.9 2-2V5c0-1.1-.9-2-2-2zM9 17H7v-7h2v7zm4 0h-2V7h2v10zm4 0h-2v-4h2v4z\"/>\n",
              "    </g>\n",
              "</svg>\n",
              "      </button>\n",
              "    </div>\n",
              "\n",
              "<style>\n",
              "  .colab-df-quickchart {\n",
              "    background-color: #E8F0FE;\n",
              "    border: none;\n",
              "    border-radius: 50%;\n",
              "    cursor: pointer;\n",
              "    display: none;\n",
              "    fill: #1967D2;\n",
              "    height: 32px;\n",
              "    padding: 0 0 0 0;\n",
              "    width: 32px;\n",
              "  }\n",
              "\n",
              "  .colab-df-quickchart:hover {\n",
              "    background-color: #E2EBFA;\n",
              "    box-shadow: 0px 1px 2px rgba(60, 64, 67, 0.3), 0px 1px 3px 1px rgba(60, 64, 67, 0.15);\n",
              "    fill: #174EA6;\n",
              "  }\n",
              "\n",
              "  [theme=dark] .colab-df-quickchart {\n",
              "    background-color: #3B4455;\n",
              "    fill: #D2E3FC;\n",
              "  }\n",
              "\n",
              "  [theme=dark] .colab-df-quickchart:hover {\n",
              "    background-color: #434B5C;\n",
              "    box-shadow: 0px 1px 3px 1px rgba(0, 0, 0, 0.15);\n",
              "    filter: drop-shadow(0px 1px 2px rgba(0, 0, 0, 0.3));\n",
              "    fill: #FFFFFF;\n",
              "  }\n",
              "</style>\n",
              "\n",
              "    <script>\n",
              "      async function quickchart(key) {\n",
              "        const containerElement = document.querySelector('#' + key);\n",
              "        const charts = await google.colab.kernel.invokeFunction(\n",
              "            'suggestCharts', [key], {});\n",
              "      }\n",
              "    </script>\n",
              "\n",
              "      <script>\n",
              "\n",
              "function displayQuickchartButton(domScope) {\n",
              "  let quickchartButtonEl =\n",
              "    domScope.querySelector('#df-2552bd6f-5292-44bc-8bcc-4d9b298439e3 button.colab-df-quickchart');\n",
              "  quickchartButtonEl.style.display =\n",
              "    google.colab.kernel.accessAllowed ? 'block' : 'none';\n",
              "}\n",
              "\n",
              "        displayQuickchartButton(document);\n",
              "      </script>\n",
              "      <style>\n",
              "    .colab-df-container {\n",
              "      display:flex;\n",
              "      flex-wrap:wrap;\n",
              "      gap: 12px;\n",
              "    }\n",
              "\n",
              "    .colab-df-convert {\n",
              "      background-color: #E8F0FE;\n",
              "      border: none;\n",
              "      border-radius: 50%;\n",
              "      cursor: pointer;\n",
              "      display: none;\n",
              "      fill: #1967D2;\n",
              "      height: 32px;\n",
              "      padding: 0 0 0 0;\n",
              "      width: 32px;\n",
              "    }\n",
              "\n",
              "    .colab-df-convert:hover {\n",
              "      background-color: #E2EBFA;\n",
              "      box-shadow: 0px 1px 2px rgba(60, 64, 67, 0.3), 0px 1px 3px 1px rgba(60, 64, 67, 0.15);\n",
              "      fill: #174EA6;\n",
              "    }\n",
              "\n",
              "    [theme=dark] .colab-df-convert {\n",
              "      background-color: #3B4455;\n",
              "      fill: #D2E3FC;\n",
              "    }\n",
              "\n",
              "    [theme=dark] .colab-df-convert:hover {\n",
              "      background-color: #434B5C;\n",
              "      box-shadow: 0px 1px 3px 1px rgba(0, 0, 0, 0.15);\n",
              "      filter: drop-shadow(0px 1px 2px rgba(0, 0, 0, 0.3));\n",
              "      fill: #FFFFFF;\n",
              "    }\n",
              "  </style>\n",
              "\n",
              "      <script>\n",
              "        const buttonEl =\n",
              "          document.querySelector('#df-42f1c174-bcf4-4301-9aea-d7b3b18735f0 button.colab-df-convert');\n",
              "        buttonEl.style.display =\n",
              "          google.colab.kernel.accessAllowed ? 'block' : 'none';\n",
              "\n",
              "        async function convertToInteractive(key) {\n",
              "          const element = document.querySelector('#df-42f1c174-bcf4-4301-9aea-d7b3b18735f0');\n",
              "          const dataTable =\n",
              "            await google.colab.kernel.invokeFunction('convertToInteractive',\n",
              "                                                     [key], {});\n",
              "          if (!dataTable) return;\n",
              "\n",
              "          const docLinkHtml = 'Like what you see? Visit the ' +\n",
              "            '<a target=\"_blank\" href=https://colab.research.google.com/notebooks/data_table.ipynb>data table notebook</a>'\n",
              "            + ' to learn more about interactive tables.';\n",
              "          element.innerHTML = '';\n",
              "          dataTable['output_type'] = 'display_data';\n",
              "          await google.colab.output.renderOutput(dataTable, element);\n",
              "          const docLink = document.createElement('div');\n",
              "          docLink.innerHTML = docLinkHtml;\n",
              "          element.appendChild(docLink);\n",
              "        }\n",
              "      </script>\n",
              "    </div>\n",
              "  </div>\n"
            ]
          },
          "metadata": {},
          "execution_count": 30
        }
      ]
    },
    {
      "cell_type": "code",
      "source": [
        "test=df_daily[2757:]"
      ],
      "metadata": {
        "id": "47koefHCPQ3w"
      },
      "execution_count": 149,
      "outputs": []
    },
    {
      "cell_type": "code",
      "source": [
        "test"
      ],
      "metadata": {
        "colab": {
          "base_uri": "https://localhost:8080/",
          "height": 455
        },
        "id": "LAj8Zb0JQBYQ",
        "outputId": "e2766397-62ef-40ab-f084-fba0da0c8796"
      },
      "execution_count": 150,
      "outputs": [
        {
          "output_type": "execute_result",
          "data": {
            "text/plain": [
              "             Tmax      SysLoad  GasPrice         y\n",
              "ds                                                \n",
              "2018-03-20  540.0   7696.91130  201.5880  1833.000\n",
              "2018-03-21  571.2   4658.05865  203.2560  1730.490\n",
              "2018-03-22  722.4  19161.78525  203.2560  2260.550\n",
              "2018-03-23  811.2  18090.43435  198.6456  2138.760\n",
              "2018-03-24  832.8   3763.53865  180.2160  1721.700\n",
              "...           ...          ...       ...       ...\n",
              "2021-02-24  537.6  -1525.49745  134.4000   634.770\n",
              "2021-02-25  518.4   4539.07855  130.5048   577.515\n",
              "2021-02-26  547.2   9517.02430  130.1808  1445.495\n",
              "2021-02-27  564.0   4932.88015  130.0800   488.980\n",
              "2021-02-28  583.2   6675.05485  131.6352   -98.985\n",
              "\n",
              "[1077 rows x 4 columns]"
            ],
            "text/html": [
              "\n",
              "\n",
              "  <div id=\"df-a1d1ff17-22d0-4de1-9980-fe2bc99dbe5c\">\n",
              "    <div class=\"colab-df-container\">\n",
              "      <div>\n",
              "<style scoped>\n",
              "    .dataframe tbody tr th:only-of-type {\n",
              "        vertical-align: middle;\n",
              "    }\n",
              "\n",
              "    .dataframe tbody tr th {\n",
              "        vertical-align: top;\n",
              "    }\n",
              "\n",
              "    .dataframe thead th {\n",
              "        text-align: right;\n",
              "    }\n",
              "</style>\n",
              "<table border=\"1\" class=\"dataframe\">\n",
              "  <thead>\n",
              "    <tr style=\"text-align: right;\">\n",
              "      <th></th>\n",
              "      <th>Tmax</th>\n",
              "      <th>SysLoad</th>\n",
              "      <th>GasPrice</th>\n",
              "      <th>y</th>\n",
              "    </tr>\n",
              "    <tr>\n",
              "      <th>ds</th>\n",
              "      <th></th>\n",
              "      <th></th>\n",
              "      <th></th>\n",
              "      <th></th>\n",
              "    </tr>\n",
              "  </thead>\n",
              "  <tbody>\n",
              "    <tr>\n",
              "      <th>2018-03-20</th>\n",
              "      <td>540.0</td>\n",
              "      <td>7696.91130</td>\n",
              "      <td>201.5880</td>\n",
              "      <td>1833.000</td>\n",
              "    </tr>\n",
              "    <tr>\n",
              "      <th>2018-03-21</th>\n",
              "      <td>571.2</td>\n",
              "      <td>4658.05865</td>\n",
              "      <td>203.2560</td>\n",
              "      <td>1730.490</td>\n",
              "    </tr>\n",
              "    <tr>\n",
              "      <th>2018-03-22</th>\n",
              "      <td>722.4</td>\n",
              "      <td>19161.78525</td>\n",
              "      <td>203.2560</td>\n",
              "      <td>2260.550</td>\n",
              "    </tr>\n",
              "    <tr>\n",
              "      <th>2018-03-23</th>\n",
              "      <td>811.2</td>\n",
              "      <td>18090.43435</td>\n",
              "      <td>198.6456</td>\n",
              "      <td>2138.760</td>\n",
              "    </tr>\n",
              "    <tr>\n",
              "      <th>2018-03-24</th>\n",
              "      <td>832.8</td>\n",
              "      <td>3763.53865</td>\n",
              "      <td>180.2160</td>\n",
              "      <td>1721.700</td>\n",
              "    </tr>\n",
              "    <tr>\n",
              "      <th>...</th>\n",
              "      <td>...</td>\n",
              "      <td>...</td>\n",
              "      <td>...</td>\n",
              "      <td>...</td>\n",
              "    </tr>\n",
              "    <tr>\n",
              "      <th>2021-02-24</th>\n",
              "      <td>537.6</td>\n",
              "      <td>-1525.49745</td>\n",
              "      <td>134.4000</td>\n",
              "      <td>634.770</td>\n",
              "    </tr>\n",
              "    <tr>\n",
              "      <th>2021-02-25</th>\n",
              "      <td>518.4</td>\n",
              "      <td>4539.07855</td>\n",
              "      <td>130.5048</td>\n",
              "      <td>577.515</td>\n",
              "    </tr>\n",
              "    <tr>\n",
              "      <th>2021-02-26</th>\n",
              "      <td>547.2</td>\n",
              "      <td>9517.02430</td>\n",
              "      <td>130.1808</td>\n",
              "      <td>1445.495</td>\n",
              "    </tr>\n",
              "    <tr>\n",
              "      <th>2021-02-27</th>\n",
              "      <td>564.0</td>\n",
              "      <td>4932.88015</td>\n",
              "      <td>130.0800</td>\n",
              "      <td>488.980</td>\n",
              "    </tr>\n",
              "    <tr>\n",
              "      <th>2021-02-28</th>\n",
              "      <td>583.2</td>\n",
              "      <td>6675.05485</td>\n",
              "      <td>131.6352</td>\n",
              "      <td>-98.985</td>\n",
              "    </tr>\n",
              "  </tbody>\n",
              "</table>\n",
              "<p>1077 rows × 4 columns</p>\n",
              "</div>\n",
              "      <button class=\"colab-df-convert\" onclick=\"convertToInteractive('df-a1d1ff17-22d0-4de1-9980-fe2bc99dbe5c')\"\n",
              "              title=\"Convert this dataframe to an interactive table.\"\n",
              "              style=\"display:none;\">\n",
              "\n",
              "  <svg xmlns=\"http://www.w3.org/2000/svg\" height=\"24px\"viewBox=\"0 0 24 24\"\n",
              "       width=\"24px\">\n",
              "    <path d=\"M0 0h24v24H0V0z\" fill=\"none\"/>\n",
              "    <path d=\"M18.56 5.44l.94 2.06.94-2.06 2.06-.94-2.06-.94-.94-2.06-.94 2.06-2.06.94zm-11 1L8.5 8.5l.94-2.06 2.06-.94-2.06-.94L8.5 2.5l-.94 2.06-2.06.94zm10 10l.94 2.06.94-2.06 2.06-.94-2.06-.94-.94-2.06-.94 2.06-2.06.94z\"/><path d=\"M17.41 7.96l-1.37-1.37c-.4-.4-.92-.59-1.43-.59-.52 0-1.04.2-1.43.59L10.3 9.45l-7.72 7.72c-.78.78-.78 2.05 0 2.83L4 21.41c.39.39.9.59 1.41.59.51 0 1.02-.2 1.41-.59l7.78-7.78 2.81-2.81c.8-.78.8-2.07 0-2.86zM5.41 20L4 18.59l7.72-7.72 1.47 1.35L5.41 20z\"/>\n",
              "  </svg>\n",
              "      </button>\n",
              "\n",
              "\n",
              "\n",
              "    <div id=\"df-7dc16929-f345-4dcb-80b7-fa8848546920\">\n",
              "      <button class=\"colab-df-quickchart\" onclick=\"quickchart('df-7dc16929-f345-4dcb-80b7-fa8848546920')\"\n",
              "              title=\"Suggest charts.\"\n",
              "              style=\"display:none;\">\n",
              "\n",
              "<svg xmlns=\"http://www.w3.org/2000/svg\" height=\"24px\"viewBox=\"0 0 24 24\"\n",
              "     width=\"24px\">\n",
              "    <g>\n",
              "        <path d=\"M19 3H5c-1.1 0-2 .9-2 2v14c0 1.1.9 2 2 2h14c1.1 0 2-.9 2-2V5c0-1.1-.9-2-2-2zM9 17H7v-7h2v7zm4 0h-2V7h2v10zm4 0h-2v-4h2v4z\"/>\n",
              "    </g>\n",
              "</svg>\n",
              "      </button>\n",
              "    </div>\n",
              "\n",
              "<style>\n",
              "  .colab-df-quickchart {\n",
              "    background-color: #E8F0FE;\n",
              "    border: none;\n",
              "    border-radius: 50%;\n",
              "    cursor: pointer;\n",
              "    display: none;\n",
              "    fill: #1967D2;\n",
              "    height: 32px;\n",
              "    padding: 0 0 0 0;\n",
              "    width: 32px;\n",
              "  }\n",
              "\n",
              "  .colab-df-quickchart:hover {\n",
              "    background-color: #E2EBFA;\n",
              "    box-shadow: 0px 1px 2px rgba(60, 64, 67, 0.3), 0px 1px 3px 1px rgba(60, 64, 67, 0.15);\n",
              "    fill: #174EA6;\n",
              "  }\n",
              "\n",
              "  [theme=dark] .colab-df-quickchart {\n",
              "    background-color: #3B4455;\n",
              "    fill: #D2E3FC;\n",
              "  }\n",
              "\n",
              "  [theme=dark] .colab-df-quickchart:hover {\n",
              "    background-color: #434B5C;\n",
              "    box-shadow: 0px 1px 3px 1px rgba(0, 0, 0, 0.15);\n",
              "    filter: drop-shadow(0px 1px 2px rgba(0, 0, 0, 0.3));\n",
              "    fill: #FFFFFF;\n",
              "  }\n",
              "</style>\n",
              "\n",
              "    <script>\n",
              "      async function quickchart(key) {\n",
              "        const containerElement = document.querySelector('#' + key);\n",
              "        const charts = await google.colab.kernel.invokeFunction(\n",
              "            'suggestCharts', [key], {});\n",
              "      }\n",
              "    </script>\n",
              "\n",
              "      <script>\n",
              "\n",
              "function displayQuickchartButton(domScope) {\n",
              "  let quickchartButtonEl =\n",
              "    domScope.querySelector('#df-7dc16929-f345-4dcb-80b7-fa8848546920 button.colab-df-quickchart');\n",
              "  quickchartButtonEl.style.display =\n",
              "    google.colab.kernel.accessAllowed ? 'block' : 'none';\n",
              "}\n",
              "\n",
              "        displayQuickchartButton(document);\n",
              "      </script>\n",
              "      <style>\n",
              "    .colab-df-container {\n",
              "      display:flex;\n",
              "      flex-wrap:wrap;\n",
              "      gap: 12px;\n",
              "    }\n",
              "\n",
              "    .colab-df-convert {\n",
              "      background-color: #E8F0FE;\n",
              "      border: none;\n",
              "      border-radius: 50%;\n",
              "      cursor: pointer;\n",
              "      display: none;\n",
              "      fill: #1967D2;\n",
              "      height: 32px;\n",
              "      padding: 0 0 0 0;\n",
              "      width: 32px;\n",
              "    }\n",
              "\n",
              "    .colab-df-convert:hover {\n",
              "      background-color: #E2EBFA;\n",
              "      box-shadow: 0px 1px 2px rgba(60, 64, 67, 0.3), 0px 1px 3px 1px rgba(60, 64, 67, 0.15);\n",
              "      fill: #174EA6;\n",
              "    }\n",
              "\n",
              "    [theme=dark] .colab-df-convert {\n",
              "      background-color: #3B4455;\n",
              "      fill: #D2E3FC;\n",
              "    }\n",
              "\n",
              "    [theme=dark] .colab-df-convert:hover {\n",
              "      background-color: #434B5C;\n",
              "      box-shadow: 0px 1px 3px 1px rgba(0, 0, 0, 0.15);\n",
              "      filter: drop-shadow(0px 1px 2px rgba(0, 0, 0, 0.3));\n",
              "      fill: #FFFFFF;\n",
              "    }\n",
              "  </style>\n",
              "\n",
              "      <script>\n",
              "        const buttonEl =\n",
              "          document.querySelector('#df-a1d1ff17-22d0-4de1-9980-fe2bc99dbe5c button.colab-df-convert');\n",
              "        buttonEl.style.display =\n",
              "          google.colab.kernel.accessAllowed ? 'block' : 'none';\n",
              "\n",
              "        async function convertToInteractive(key) {\n",
              "          const element = document.querySelector('#df-a1d1ff17-22d0-4de1-9980-fe2bc99dbe5c');\n",
              "          const dataTable =\n",
              "            await google.colab.kernel.invokeFunction('convertToInteractive',\n",
              "                                                     [key], {});\n",
              "          if (!dataTable) return;\n",
              "\n",
              "          const docLinkHtml = 'Like what you see? Visit the ' +\n",
              "            '<a target=\"_blank\" href=https://colab.research.google.com/notebooks/data_table.ipynb>data table notebook</a>'\n",
              "            + ' to learn more about interactive tables.';\n",
              "          element.innerHTML = '';\n",
              "          dataTable['output_type'] = 'display_data';\n",
              "          await google.colab.output.renderOutput(dataTable, element);\n",
              "          const docLink = document.createElement('div');\n",
              "          docLink.innerHTML = docLinkHtml;\n",
              "          element.appendChild(docLink);\n",
              "        }\n",
              "      </script>\n",
              "    </div>\n",
              "  </div>\n"
            ]
          },
          "metadata": {},
          "execution_count": 150
        }
      ]
    },
    {
      "cell_type": "markdown",
      "source": [
        "## Applying Prophet"
      ],
      "metadata": {
        "id": "PnnFpCsa_n0O"
      }
    },
    {
      "cell_type": "code",
      "source": [
        "\n",
        "train=train.reset_index()"
      ],
      "metadata": {
        "id": "LaFB06rdTC_w"
      },
      "execution_count": 152,
      "outputs": []
    },
    {
      "cell_type": "code",
      "source": [
        "model = Prophet()\n",
        "#model.fit(train[['ds','y']])\n",
        "model.fit(train)"
      ],
      "metadata": {
        "colab": {
          "base_uri": "https://localhost:8080/"
        },
        "id": "NQ6Mp-fIQIL1",
        "outputId": "6dfc1662-10ed-4527-a3f0-d2ded75a9de0"
      },
      "execution_count": 177,
      "outputs": [
        {
          "output_type": "stream",
          "name": "stderr",
          "text": [
            "INFO:prophet:Disabling daily seasonality. Run prophet with daily_seasonality=True to override this.\n",
            "DEBUG:cmdstanpy:input tempfile: /tmp/tmplzrg_f2n/3j2n1gl5.json\n",
            "DEBUG:cmdstanpy:input tempfile: /tmp/tmplzrg_f2n/sdlfrici.json\n",
            "DEBUG:cmdstanpy:idx 0\n",
            "DEBUG:cmdstanpy:running CmdStan, num_threads: None\n",
            "DEBUG:cmdstanpy:CmdStan args: ['/usr/local/lib/python3.10/dist-packages/prophet/stan_model/prophet_model.bin', 'random', 'seed=25269', 'data', 'file=/tmp/tmplzrg_f2n/3j2n1gl5.json', 'init=/tmp/tmplzrg_f2n/sdlfrici.json', 'output', 'file=/tmp/tmplzrg_f2n/prophet_modelbrcmjvul/prophet_model-20230801181546.csv', 'method=optimize', 'algorithm=lbfgs', 'iter=10000']\n",
            "18:15:46 - cmdstanpy - INFO - Chain [1] start processing\n",
            "INFO:cmdstanpy:Chain [1] start processing\n",
            "18:15:46 - cmdstanpy - INFO - Chain [1] done processing\n",
            "INFO:cmdstanpy:Chain [1] done processing\n"
          ]
        },
        {
          "output_type": "execute_result",
          "data": {
            "text/plain": [
              "<prophet.forecaster.Prophet at 0x7e963d44b670>"
            ]
          },
          "metadata": {},
          "execution_count": 177
        }
      ]
    },
    {
      "cell_type": "code",
      "source": [
        "test=test.reset_index()"
      ],
      "metadata": {
        "id": "el3Xb4k6yt4D"
      },
      "execution_count": 156,
      "outputs": []
    },
    {
      "cell_type": "code",
      "source": [
        "test"
      ],
      "metadata": {
        "colab": {
          "base_uri": "https://localhost:8080/",
          "height": 424
        },
        "id": "KCvMDh8_Oenx",
        "outputId": "ccd31d29-f5e8-4ca9-9e34-0094a1095065"
      },
      "execution_count": 157,
      "outputs": [
        {
          "output_type": "execute_result",
          "data": {
            "text/plain": [
              "             ds   Tmax      SysLoad  GasPrice         y\n",
              "0    2018-03-20  540.0   7696.91130  201.5880  1833.000\n",
              "1    2018-03-21  571.2   4658.05865  203.2560  1730.490\n",
              "2    2018-03-22  722.4  19161.78525  203.2560  2260.550\n",
              "3    2018-03-23  811.2  18090.43435  198.6456  2138.760\n",
              "4    2018-03-24  832.8   3763.53865  180.2160  1721.700\n",
              "...         ...    ...          ...       ...       ...\n",
              "1072 2021-02-24  537.6  -1525.49745  134.4000   634.770\n",
              "1073 2021-02-25  518.4   4539.07855  130.5048   577.515\n",
              "1074 2021-02-26  547.2   9517.02430  130.1808  1445.495\n",
              "1075 2021-02-27  564.0   4932.88015  130.0800   488.980\n",
              "1076 2021-02-28  583.2   6675.05485  131.6352   -98.985\n",
              "\n",
              "[1077 rows x 5 columns]"
            ],
            "text/html": [
              "\n",
              "\n",
              "  <div id=\"df-5b68db04-870c-436f-b4ed-9ebbc3db25b5\">\n",
              "    <div class=\"colab-df-container\">\n",
              "      <div>\n",
              "<style scoped>\n",
              "    .dataframe tbody tr th:only-of-type {\n",
              "        vertical-align: middle;\n",
              "    }\n",
              "\n",
              "    .dataframe tbody tr th {\n",
              "        vertical-align: top;\n",
              "    }\n",
              "\n",
              "    .dataframe thead th {\n",
              "        text-align: right;\n",
              "    }\n",
              "</style>\n",
              "<table border=\"1\" class=\"dataframe\">\n",
              "  <thead>\n",
              "    <tr style=\"text-align: right;\">\n",
              "      <th></th>\n",
              "      <th>ds</th>\n",
              "      <th>Tmax</th>\n",
              "      <th>SysLoad</th>\n",
              "      <th>GasPrice</th>\n",
              "      <th>y</th>\n",
              "    </tr>\n",
              "  </thead>\n",
              "  <tbody>\n",
              "    <tr>\n",
              "      <th>0</th>\n",
              "      <td>2018-03-20</td>\n",
              "      <td>540.0</td>\n",
              "      <td>7696.91130</td>\n",
              "      <td>201.5880</td>\n",
              "      <td>1833.000</td>\n",
              "    </tr>\n",
              "    <tr>\n",
              "      <th>1</th>\n",
              "      <td>2018-03-21</td>\n",
              "      <td>571.2</td>\n",
              "      <td>4658.05865</td>\n",
              "      <td>203.2560</td>\n",
              "      <td>1730.490</td>\n",
              "    </tr>\n",
              "    <tr>\n",
              "      <th>2</th>\n",
              "      <td>2018-03-22</td>\n",
              "      <td>722.4</td>\n",
              "      <td>19161.78525</td>\n",
              "      <td>203.2560</td>\n",
              "      <td>2260.550</td>\n",
              "    </tr>\n",
              "    <tr>\n",
              "      <th>3</th>\n",
              "      <td>2018-03-23</td>\n",
              "      <td>811.2</td>\n",
              "      <td>18090.43435</td>\n",
              "      <td>198.6456</td>\n",
              "      <td>2138.760</td>\n",
              "    </tr>\n",
              "    <tr>\n",
              "      <th>4</th>\n",
              "      <td>2018-03-24</td>\n",
              "      <td>832.8</td>\n",
              "      <td>3763.53865</td>\n",
              "      <td>180.2160</td>\n",
              "      <td>1721.700</td>\n",
              "    </tr>\n",
              "    <tr>\n",
              "      <th>...</th>\n",
              "      <td>...</td>\n",
              "      <td>...</td>\n",
              "      <td>...</td>\n",
              "      <td>...</td>\n",
              "      <td>...</td>\n",
              "    </tr>\n",
              "    <tr>\n",
              "      <th>1072</th>\n",
              "      <td>2021-02-24</td>\n",
              "      <td>537.6</td>\n",
              "      <td>-1525.49745</td>\n",
              "      <td>134.4000</td>\n",
              "      <td>634.770</td>\n",
              "    </tr>\n",
              "    <tr>\n",
              "      <th>1073</th>\n",
              "      <td>2021-02-25</td>\n",
              "      <td>518.4</td>\n",
              "      <td>4539.07855</td>\n",
              "      <td>130.5048</td>\n",
              "      <td>577.515</td>\n",
              "    </tr>\n",
              "    <tr>\n",
              "      <th>1074</th>\n",
              "      <td>2021-02-26</td>\n",
              "      <td>547.2</td>\n",
              "      <td>9517.02430</td>\n",
              "      <td>130.1808</td>\n",
              "      <td>1445.495</td>\n",
              "    </tr>\n",
              "    <tr>\n",
              "      <th>1075</th>\n",
              "      <td>2021-02-27</td>\n",
              "      <td>564.0</td>\n",
              "      <td>4932.88015</td>\n",
              "      <td>130.0800</td>\n",
              "      <td>488.980</td>\n",
              "    </tr>\n",
              "    <tr>\n",
              "      <th>1076</th>\n",
              "      <td>2021-02-28</td>\n",
              "      <td>583.2</td>\n",
              "      <td>6675.05485</td>\n",
              "      <td>131.6352</td>\n",
              "      <td>-98.985</td>\n",
              "    </tr>\n",
              "  </tbody>\n",
              "</table>\n",
              "<p>1077 rows × 5 columns</p>\n",
              "</div>\n",
              "      <button class=\"colab-df-convert\" onclick=\"convertToInteractive('df-5b68db04-870c-436f-b4ed-9ebbc3db25b5')\"\n",
              "              title=\"Convert this dataframe to an interactive table.\"\n",
              "              style=\"display:none;\">\n",
              "\n",
              "  <svg xmlns=\"http://www.w3.org/2000/svg\" height=\"24px\"viewBox=\"0 0 24 24\"\n",
              "       width=\"24px\">\n",
              "    <path d=\"M0 0h24v24H0V0z\" fill=\"none\"/>\n",
              "    <path d=\"M18.56 5.44l.94 2.06.94-2.06 2.06-.94-2.06-.94-.94-2.06-.94 2.06-2.06.94zm-11 1L8.5 8.5l.94-2.06 2.06-.94-2.06-.94L8.5 2.5l-.94 2.06-2.06.94zm10 10l.94 2.06.94-2.06 2.06-.94-2.06-.94-.94-2.06-.94 2.06-2.06.94z\"/><path d=\"M17.41 7.96l-1.37-1.37c-.4-.4-.92-.59-1.43-.59-.52 0-1.04.2-1.43.59L10.3 9.45l-7.72 7.72c-.78.78-.78 2.05 0 2.83L4 21.41c.39.39.9.59 1.41.59.51 0 1.02-.2 1.41-.59l7.78-7.78 2.81-2.81c.8-.78.8-2.07 0-2.86zM5.41 20L4 18.59l7.72-7.72 1.47 1.35L5.41 20z\"/>\n",
              "  </svg>\n",
              "      </button>\n",
              "\n",
              "\n",
              "\n",
              "    <div id=\"df-08a7592b-282f-4880-ae5a-66c4f05947df\">\n",
              "      <button class=\"colab-df-quickchart\" onclick=\"quickchart('df-08a7592b-282f-4880-ae5a-66c4f05947df')\"\n",
              "              title=\"Suggest charts.\"\n",
              "              style=\"display:none;\">\n",
              "\n",
              "<svg xmlns=\"http://www.w3.org/2000/svg\" height=\"24px\"viewBox=\"0 0 24 24\"\n",
              "     width=\"24px\">\n",
              "    <g>\n",
              "        <path d=\"M19 3H5c-1.1 0-2 .9-2 2v14c0 1.1.9 2 2 2h14c1.1 0 2-.9 2-2V5c0-1.1-.9-2-2-2zM9 17H7v-7h2v7zm4 0h-2V7h2v10zm4 0h-2v-4h2v4z\"/>\n",
              "    </g>\n",
              "</svg>\n",
              "      </button>\n",
              "    </div>\n",
              "\n",
              "<style>\n",
              "  .colab-df-quickchart {\n",
              "    background-color: #E8F0FE;\n",
              "    border: none;\n",
              "    border-radius: 50%;\n",
              "    cursor: pointer;\n",
              "    display: none;\n",
              "    fill: #1967D2;\n",
              "    height: 32px;\n",
              "    padding: 0 0 0 0;\n",
              "    width: 32px;\n",
              "  }\n",
              "\n",
              "  .colab-df-quickchart:hover {\n",
              "    background-color: #E2EBFA;\n",
              "    box-shadow: 0px 1px 2px rgba(60, 64, 67, 0.3), 0px 1px 3px 1px rgba(60, 64, 67, 0.15);\n",
              "    fill: #174EA6;\n",
              "  }\n",
              "\n",
              "  [theme=dark] .colab-df-quickchart {\n",
              "    background-color: #3B4455;\n",
              "    fill: #D2E3FC;\n",
              "  }\n",
              "\n",
              "  [theme=dark] .colab-df-quickchart:hover {\n",
              "    background-color: #434B5C;\n",
              "    box-shadow: 0px 1px 3px 1px rgba(0, 0, 0, 0.15);\n",
              "    filter: drop-shadow(0px 1px 2px rgba(0, 0, 0, 0.3));\n",
              "    fill: #FFFFFF;\n",
              "  }\n",
              "</style>\n",
              "\n",
              "    <script>\n",
              "      async function quickchart(key) {\n",
              "        const containerElement = document.querySelector('#' + key);\n",
              "        const charts = await google.colab.kernel.invokeFunction(\n",
              "            'suggestCharts', [key], {});\n",
              "      }\n",
              "    </script>\n",
              "\n",
              "      <script>\n",
              "\n",
              "function displayQuickchartButton(domScope) {\n",
              "  let quickchartButtonEl =\n",
              "    domScope.querySelector('#df-08a7592b-282f-4880-ae5a-66c4f05947df button.colab-df-quickchart');\n",
              "  quickchartButtonEl.style.display =\n",
              "    google.colab.kernel.accessAllowed ? 'block' : 'none';\n",
              "}\n",
              "\n",
              "        displayQuickchartButton(document);\n",
              "      </script>\n",
              "      <style>\n",
              "    .colab-df-container {\n",
              "      display:flex;\n",
              "      flex-wrap:wrap;\n",
              "      gap: 12px;\n",
              "    }\n",
              "\n",
              "    .colab-df-convert {\n",
              "      background-color: #E8F0FE;\n",
              "      border: none;\n",
              "      border-radius: 50%;\n",
              "      cursor: pointer;\n",
              "      display: none;\n",
              "      fill: #1967D2;\n",
              "      height: 32px;\n",
              "      padding: 0 0 0 0;\n",
              "      width: 32px;\n",
              "    }\n",
              "\n",
              "    .colab-df-convert:hover {\n",
              "      background-color: #E2EBFA;\n",
              "      box-shadow: 0px 1px 2px rgba(60, 64, 67, 0.3), 0px 1px 3px 1px rgba(60, 64, 67, 0.15);\n",
              "      fill: #174EA6;\n",
              "    }\n",
              "\n",
              "    [theme=dark] .colab-df-convert {\n",
              "      background-color: #3B4455;\n",
              "      fill: #D2E3FC;\n",
              "    }\n",
              "\n",
              "    [theme=dark] .colab-df-convert:hover {\n",
              "      background-color: #434B5C;\n",
              "      box-shadow: 0px 1px 3px 1px rgba(0, 0, 0, 0.15);\n",
              "      filter: drop-shadow(0px 1px 2px rgba(0, 0, 0, 0.3));\n",
              "      fill: #FFFFFF;\n",
              "    }\n",
              "  </style>\n",
              "\n",
              "      <script>\n",
              "        const buttonEl =\n",
              "          document.querySelector('#df-5b68db04-870c-436f-b4ed-9ebbc3db25b5 button.colab-df-convert');\n",
              "        buttonEl.style.display =\n",
              "          google.colab.kernel.accessAllowed ? 'block' : 'none';\n",
              "\n",
              "        async function convertToInteractive(key) {\n",
              "          const element = document.querySelector('#df-5b68db04-870c-436f-b4ed-9ebbc3db25b5');\n",
              "          const dataTable =\n",
              "            await google.colab.kernel.invokeFunction('convertToInteractive',\n",
              "                                                     [key], {});\n",
              "          if (!dataTable) return;\n",
              "\n",
              "          const docLinkHtml = 'Like what you see? Visit the ' +\n",
              "            '<a target=\"_blank\" href=https://colab.research.google.com/notebooks/data_table.ipynb>data table notebook</a>'\n",
              "            + ' to learn more about interactive tables.';\n",
              "          element.innerHTML = '';\n",
              "          dataTable['output_type'] = 'display_data';\n",
              "          await google.colab.output.renderOutput(dataTable, element);\n",
              "          const docLink = document.createElement('div');\n",
              "          docLink.innerHTML = docLinkHtml;\n",
              "          element.appendChild(docLink);\n",
              "        }\n",
              "      </script>\n",
              "    </div>\n",
              "  </div>\n"
            ]
          },
          "metadata": {},
          "execution_count": 157
        }
      ]
    },
    {
      "cell_type": "code",
      "source": [
        "#forecast = model.predict(test['ds','y'])\n",
        "forecast = model.predict(test.drop(columns=\"y\"))"
      ],
      "metadata": {
        "id": "B3PXScy3UGaL"
      },
      "execution_count": 178,
      "outputs": []
    },
    {
      "cell_type": "code",
      "source": [
        "forecast.head(5)"
      ],
      "metadata": {
        "colab": {
          "base_uri": "https://localhost:8080/",
          "height": 357
        },
        "id": "0iCTd9DPz73a",
        "outputId": "719a6c2a-c48a-42a7-c4dc-2189129d739d"
      },
      "execution_count": 161,
      "outputs": [
        {
          "output_type": "execute_result",
          "data": {
            "text/plain": [
              "          ds        trend  yhat_lower   yhat_upper  trend_lower  trend_upper  \\\n",
              "0 2018-03-20  2684.522366  111.505320  4931.050175  2684.522366  2684.522366   \n",
              "1 2018-03-21  2685.313840  245.952144  4995.893530  2685.313840  2685.313840   \n",
              "2 2018-03-22  2686.105314  441.469530  5121.419752  2686.105314  2686.105314   \n",
              "3 2018-03-23  2686.896788   69.790993  4870.890763  2686.896788  2686.896788   \n",
              "4 2018-03-24  2687.688263 -303.842252  4704.205169  2687.688263  2687.688263   \n",
              "\n",
              "   additive_terms  additive_terms_lower  additive_terms_upper      weekly  \\\n",
              "0     -157.277098           -157.277098           -157.277098    9.755659   \n",
              "1       -4.693954             -4.693954             -4.693954  159.421504   \n",
              "2       93.604040             93.604040             93.604040  257.239178   \n",
              "3     -115.130706           -115.130706           -115.130706   50.294929   \n",
              "4     -440.838320           -440.838320           -440.838320 -271.594004   \n",
              "\n",
              "   weekly_lower  weekly_upper      yearly  yearly_lower  yearly_upper  \\\n",
              "0      9.755659      9.755659 -167.032757   -167.032757   -167.032757   \n",
              "1    159.421504    159.421504 -164.115459   -164.115459   -164.115459   \n",
              "2    257.239178    257.239178 -163.635138   -163.635138   -163.635138   \n",
              "3     50.294929     50.294929 -165.425635   -165.425635   -165.425635   \n",
              "4   -271.594004   -271.594004 -169.244315   -169.244315   -169.244315   \n",
              "\n",
              "   multiplicative_terms  multiplicative_terms_lower  \\\n",
              "0                   0.0                         0.0   \n",
              "1                   0.0                         0.0   \n",
              "2                   0.0                         0.0   \n",
              "3                   0.0                         0.0   \n",
              "4                   0.0                         0.0   \n",
              "\n",
              "   multiplicative_terms_upper         yhat  \n",
              "0                         0.0  2527.245268  \n",
              "1                         0.0  2680.619886  \n",
              "2                         0.0  2779.709354  \n",
              "3                         0.0  2571.766082  \n",
              "4                         0.0  2246.849943  "
            ],
            "text/html": [
              "\n",
              "\n",
              "  <div id=\"df-a9649261-3e19-442f-ba9a-078d68fc25d9\">\n",
              "    <div class=\"colab-df-container\">\n",
              "      <div>\n",
              "<style scoped>\n",
              "    .dataframe tbody tr th:only-of-type {\n",
              "        vertical-align: middle;\n",
              "    }\n",
              "\n",
              "    .dataframe tbody tr th {\n",
              "        vertical-align: top;\n",
              "    }\n",
              "\n",
              "    .dataframe thead th {\n",
              "        text-align: right;\n",
              "    }\n",
              "</style>\n",
              "<table border=\"1\" class=\"dataframe\">\n",
              "  <thead>\n",
              "    <tr style=\"text-align: right;\">\n",
              "      <th></th>\n",
              "      <th>ds</th>\n",
              "      <th>trend</th>\n",
              "      <th>yhat_lower</th>\n",
              "      <th>yhat_upper</th>\n",
              "      <th>trend_lower</th>\n",
              "      <th>trend_upper</th>\n",
              "      <th>additive_terms</th>\n",
              "      <th>additive_terms_lower</th>\n",
              "      <th>additive_terms_upper</th>\n",
              "      <th>weekly</th>\n",
              "      <th>weekly_lower</th>\n",
              "      <th>weekly_upper</th>\n",
              "      <th>yearly</th>\n",
              "      <th>yearly_lower</th>\n",
              "      <th>yearly_upper</th>\n",
              "      <th>multiplicative_terms</th>\n",
              "      <th>multiplicative_terms_lower</th>\n",
              "      <th>multiplicative_terms_upper</th>\n",
              "      <th>yhat</th>\n",
              "    </tr>\n",
              "  </thead>\n",
              "  <tbody>\n",
              "    <tr>\n",
              "      <th>0</th>\n",
              "      <td>2018-03-20</td>\n",
              "      <td>2684.522366</td>\n",
              "      <td>111.505320</td>\n",
              "      <td>4931.050175</td>\n",
              "      <td>2684.522366</td>\n",
              "      <td>2684.522366</td>\n",
              "      <td>-157.277098</td>\n",
              "      <td>-157.277098</td>\n",
              "      <td>-157.277098</td>\n",
              "      <td>9.755659</td>\n",
              "      <td>9.755659</td>\n",
              "      <td>9.755659</td>\n",
              "      <td>-167.032757</td>\n",
              "      <td>-167.032757</td>\n",
              "      <td>-167.032757</td>\n",
              "      <td>0.0</td>\n",
              "      <td>0.0</td>\n",
              "      <td>0.0</td>\n",
              "      <td>2527.245268</td>\n",
              "    </tr>\n",
              "    <tr>\n",
              "      <th>1</th>\n",
              "      <td>2018-03-21</td>\n",
              "      <td>2685.313840</td>\n",
              "      <td>245.952144</td>\n",
              "      <td>4995.893530</td>\n",
              "      <td>2685.313840</td>\n",
              "      <td>2685.313840</td>\n",
              "      <td>-4.693954</td>\n",
              "      <td>-4.693954</td>\n",
              "      <td>-4.693954</td>\n",
              "      <td>159.421504</td>\n",
              "      <td>159.421504</td>\n",
              "      <td>159.421504</td>\n",
              "      <td>-164.115459</td>\n",
              "      <td>-164.115459</td>\n",
              "      <td>-164.115459</td>\n",
              "      <td>0.0</td>\n",
              "      <td>0.0</td>\n",
              "      <td>0.0</td>\n",
              "      <td>2680.619886</td>\n",
              "    </tr>\n",
              "    <tr>\n",
              "      <th>2</th>\n",
              "      <td>2018-03-22</td>\n",
              "      <td>2686.105314</td>\n",
              "      <td>441.469530</td>\n",
              "      <td>5121.419752</td>\n",
              "      <td>2686.105314</td>\n",
              "      <td>2686.105314</td>\n",
              "      <td>93.604040</td>\n",
              "      <td>93.604040</td>\n",
              "      <td>93.604040</td>\n",
              "      <td>257.239178</td>\n",
              "      <td>257.239178</td>\n",
              "      <td>257.239178</td>\n",
              "      <td>-163.635138</td>\n",
              "      <td>-163.635138</td>\n",
              "      <td>-163.635138</td>\n",
              "      <td>0.0</td>\n",
              "      <td>0.0</td>\n",
              "      <td>0.0</td>\n",
              "      <td>2779.709354</td>\n",
              "    </tr>\n",
              "    <tr>\n",
              "      <th>3</th>\n",
              "      <td>2018-03-23</td>\n",
              "      <td>2686.896788</td>\n",
              "      <td>69.790993</td>\n",
              "      <td>4870.890763</td>\n",
              "      <td>2686.896788</td>\n",
              "      <td>2686.896788</td>\n",
              "      <td>-115.130706</td>\n",
              "      <td>-115.130706</td>\n",
              "      <td>-115.130706</td>\n",
              "      <td>50.294929</td>\n",
              "      <td>50.294929</td>\n",
              "      <td>50.294929</td>\n",
              "      <td>-165.425635</td>\n",
              "      <td>-165.425635</td>\n",
              "      <td>-165.425635</td>\n",
              "      <td>0.0</td>\n",
              "      <td>0.0</td>\n",
              "      <td>0.0</td>\n",
              "      <td>2571.766082</td>\n",
              "    </tr>\n",
              "    <tr>\n",
              "      <th>4</th>\n",
              "      <td>2018-03-24</td>\n",
              "      <td>2687.688263</td>\n",
              "      <td>-303.842252</td>\n",
              "      <td>4704.205169</td>\n",
              "      <td>2687.688263</td>\n",
              "      <td>2687.688263</td>\n",
              "      <td>-440.838320</td>\n",
              "      <td>-440.838320</td>\n",
              "      <td>-440.838320</td>\n",
              "      <td>-271.594004</td>\n",
              "      <td>-271.594004</td>\n",
              "      <td>-271.594004</td>\n",
              "      <td>-169.244315</td>\n",
              "      <td>-169.244315</td>\n",
              "      <td>-169.244315</td>\n",
              "      <td>0.0</td>\n",
              "      <td>0.0</td>\n",
              "      <td>0.0</td>\n",
              "      <td>2246.849943</td>\n",
              "    </tr>\n",
              "  </tbody>\n",
              "</table>\n",
              "</div>\n",
              "      <button class=\"colab-df-convert\" onclick=\"convertToInteractive('df-a9649261-3e19-442f-ba9a-078d68fc25d9')\"\n",
              "              title=\"Convert this dataframe to an interactive table.\"\n",
              "              style=\"display:none;\">\n",
              "\n",
              "  <svg xmlns=\"http://www.w3.org/2000/svg\" height=\"24px\"viewBox=\"0 0 24 24\"\n",
              "       width=\"24px\">\n",
              "    <path d=\"M0 0h24v24H0V0z\" fill=\"none\"/>\n",
              "    <path d=\"M18.56 5.44l.94 2.06.94-2.06 2.06-.94-2.06-.94-.94-2.06-.94 2.06-2.06.94zm-11 1L8.5 8.5l.94-2.06 2.06-.94-2.06-.94L8.5 2.5l-.94 2.06-2.06.94zm10 10l.94 2.06.94-2.06 2.06-.94-2.06-.94-.94-2.06-.94 2.06-2.06.94z\"/><path d=\"M17.41 7.96l-1.37-1.37c-.4-.4-.92-.59-1.43-.59-.52 0-1.04.2-1.43.59L10.3 9.45l-7.72 7.72c-.78.78-.78 2.05 0 2.83L4 21.41c.39.39.9.59 1.41.59.51 0 1.02-.2 1.41-.59l7.78-7.78 2.81-2.81c.8-.78.8-2.07 0-2.86zM5.41 20L4 18.59l7.72-7.72 1.47 1.35L5.41 20z\"/>\n",
              "  </svg>\n",
              "      </button>\n",
              "\n",
              "\n",
              "\n",
              "    <div id=\"df-ad9fd455-36fb-4141-b74a-1428651cd99a\">\n",
              "      <button class=\"colab-df-quickchart\" onclick=\"quickchart('df-ad9fd455-36fb-4141-b74a-1428651cd99a')\"\n",
              "              title=\"Suggest charts.\"\n",
              "              style=\"display:none;\">\n",
              "\n",
              "<svg xmlns=\"http://www.w3.org/2000/svg\" height=\"24px\"viewBox=\"0 0 24 24\"\n",
              "     width=\"24px\">\n",
              "    <g>\n",
              "        <path d=\"M19 3H5c-1.1 0-2 .9-2 2v14c0 1.1.9 2 2 2h14c1.1 0 2-.9 2-2V5c0-1.1-.9-2-2-2zM9 17H7v-7h2v7zm4 0h-2V7h2v10zm4 0h-2v-4h2v4z\"/>\n",
              "    </g>\n",
              "</svg>\n",
              "      </button>\n",
              "    </div>\n",
              "\n",
              "<style>\n",
              "  .colab-df-quickchart {\n",
              "    background-color: #E8F0FE;\n",
              "    border: none;\n",
              "    border-radius: 50%;\n",
              "    cursor: pointer;\n",
              "    display: none;\n",
              "    fill: #1967D2;\n",
              "    height: 32px;\n",
              "    padding: 0 0 0 0;\n",
              "    width: 32px;\n",
              "  }\n",
              "\n",
              "  .colab-df-quickchart:hover {\n",
              "    background-color: #E2EBFA;\n",
              "    box-shadow: 0px 1px 2px rgba(60, 64, 67, 0.3), 0px 1px 3px 1px rgba(60, 64, 67, 0.15);\n",
              "    fill: #174EA6;\n",
              "  }\n",
              "\n",
              "  [theme=dark] .colab-df-quickchart {\n",
              "    background-color: #3B4455;\n",
              "    fill: #D2E3FC;\n",
              "  }\n",
              "\n",
              "  [theme=dark] .colab-df-quickchart:hover {\n",
              "    background-color: #434B5C;\n",
              "    box-shadow: 0px 1px 3px 1px rgba(0, 0, 0, 0.15);\n",
              "    filter: drop-shadow(0px 1px 2px rgba(0, 0, 0, 0.3));\n",
              "    fill: #FFFFFF;\n",
              "  }\n",
              "</style>\n",
              "\n",
              "    <script>\n",
              "      async function quickchart(key) {\n",
              "        const containerElement = document.querySelector('#' + key);\n",
              "        const charts = await google.colab.kernel.invokeFunction(\n",
              "            'suggestCharts', [key], {});\n",
              "      }\n",
              "    </script>\n",
              "\n",
              "      <script>\n",
              "\n",
              "function displayQuickchartButton(domScope) {\n",
              "  let quickchartButtonEl =\n",
              "    domScope.querySelector('#df-ad9fd455-36fb-4141-b74a-1428651cd99a button.colab-df-quickchart');\n",
              "  quickchartButtonEl.style.display =\n",
              "    google.colab.kernel.accessAllowed ? 'block' : 'none';\n",
              "}\n",
              "\n",
              "        displayQuickchartButton(document);\n",
              "      </script>\n",
              "      <style>\n",
              "    .colab-df-container {\n",
              "      display:flex;\n",
              "      flex-wrap:wrap;\n",
              "      gap: 12px;\n",
              "    }\n",
              "\n",
              "    .colab-df-convert {\n",
              "      background-color: #E8F0FE;\n",
              "      border: none;\n",
              "      border-radius: 50%;\n",
              "      cursor: pointer;\n",
              "      display: none;\n",
              "      fill: #1967D2;\n",
              "      height: 32px;\n",
              "      padding: 0 0 0 0;\n",
              "      width: 32px;\n",
              "    }\n",
              "\n",
              "    .colab-df-convert:hover {\n",
              "      background-color: #E2EBFA;\n",
              "      box-shadow: 0px 1px 2px rgba(60, 64, 67, 0.3), 0px 1px 3px 1px rgba(60, 64, 67, 0.15);\n",
              "      fill: #174EA6;\n",
              "    }\n",
              "\n",
              "    [theme=dark] .colab-df-convert {\n",
              "      background-color: #3B4455;\n",
              "      fill: #D2E3FC;\n",
              "    }\n",
              "\n",
              "    [theme=dark] .colab-df-convert:hover {\n",
              "      background-color: #434B5C;\n",
              "      box-shadow: 0px 1px 3px 1px rgba(0, 0, 0, 0.15);\n",
              "      filter: drop-shadow(0px 1px 2px rgba(0, 0, 0, 0.3));\n",
              "      fill: #FFFFFF;\n",
              "    }\n",
              "  </style>\n",
              "\n",
              "      <script>\n",
              "        const buttonEl =\n",
              "          document.querySelector('#df-a9649261-3e19-442f-ba9a-078d68fc25d9 button.colab-df-convert');\n",
              "        buttonEl.style.display =\n",
              "          google.colab.kernel.accessAllowed ? 'block' : 'none';\n",
              "\n",
              "        async function convertToInteractive(key) {\n",
              "          const element = document.querySelector('#df-a9649261-3e19-442f-ba9a-078d68fc25d9');\n",
              "          const dataTable =\n",
              "            await google.colab.kernel.invokeFunction('convertToInteractive',\n",
              "                                                     [key], {});\n",
              "          if (!dataTable) return;\n",
              "\n",
              "          const docLinkHtml = 'Like what you see? Visit the ' +\n",
              "            '<a target=\"_blank\" href=https://colab.research.google.com/notebooks/data_table.ipynb>data table notebook</a>'\n",
              "            + ' to learn more about interactive tables.';\n",
              "          element.innerHTML = '';\n",
              "          dataTable['output_type'] = 'display_data';\n",
              "          await google.colab.output.renderOutput(dataTable, element);\n",
              "          const docLink = document.createElement('div');\n",
              "          docLink.innerHTML = docLinkHtml;\n",
              "          element.appendChild(docLink);\n",
              "        }\n",
              "      </script>\n",
              "    </div>\n",
              "  </div>\n"
            ]
          },
          "metadata": {},
          "execution_count": 161
        }
      ]
    },
    {
      "cell_type": "markdown",
      "source": [
        "## Question 14"
      ],
      "metadata": {
        "id": "HyBH8YfA_uFC"
      }
    },
    {
      "cell_type": "code",
      "source": [
        "#function\n",
        "m=[]\n",
        "def MAPE(Y_act, Y_pred):\n",
        "    for i in range(len(Y_act)):\n",
        "      err=((Y_act[i] - Y_pred[i])/Y_act[i])\n",
        "      err=abs(err)\n",
        "      m.append(err)\n",
        "    mape=(sum(m)/len(m))*100\n",
        "    return mape\n",
        ""
      ],
      "metadata": {
        "id": "AbWm4nmZB7t2"
      },
      "execution_count": 106,
      "outputs": []
    },
    {
      "cell_type": "code",
      "source": [
        "#sklearn\n",
        "from sklearn.metrics import mean_absolute_percentage_error\n",
        "mean_absolute_percentage_error(test['y'], forecast['yhat'])*100"
      ],
      "metadata": {
        "colab": {
          "base_uri": "https://localhost:8080/"
        },
        "id": "hF7DOIPX0EEs",
        "outputId": "05eb8b58-9607-42a0-f166-fe7ccc5dd84c"
      },
      "execution_count": 179,
      "outputs": [
        {
          "output_type": "execute_result",
          "data": {
            "text/plain": [
              "544.0932873825628"
            ]
          },
          "metadata": {},
          "execution_count": 179
        }
      ]
    },
    {
      "cell_type": "code",
      "source": [
        "MAPE(test['y'], forecast['yhat'])"
      ],
      "metadata": {
        "colab": {
          "base_uri": "https://localhost:8080/"
        },
        "id": "BxcSs-qD0_rm",
        "outputId": "0c098a30-b549-41f3-fbff-e6c450bb6404"
      },
      "execution_count": 180,
      "outputs": [
        {
          "output_type": "execute_result",
          "data": {
            "text/plain": [
              "454.77525467962636"
            ]
          },
          "metadata": {},
          "execution_count": 180
        }
      ]
    },
    {
      "cell_type": "markdown",
      "source": [
        "## Question 15"
      ],
      "metadata": {
        "id": "4YFVa2LgHc51"
      }
    },
    {
      "cell_type": "code",
      "source": [
        "import math\n",
        "rm=[]\n",
        "def RMSE(Y_act, Y_pred):\n",
        "    for i in range(len(Y_act)):\n",
        "      err=(Y_act[i] - Y_pred[i])\n",
        "      err=abs(err)**2\n",
        "      rm.append(err)\n",
        "    rmse=math.sqrt(sum(rm)/len(rm))\n",
        "    return rmse"
      ],
      "metadata": {
        "id": "5iwGpmbWIs6Q"
      },
      "execution_count": 117,
      "outputs": []
    },
    {
      "cell_type": "code",
      "source": [
        "RMSE(test['y'], forecast['yhat'])"
      ],
      "metadata": {
        "colab": {
          "base_uri": "https://localhost:8080/"
        },
        "id": "2K90H_sKJHXv",
        "outputId": "6fcbe2c3-c731-4a7b-e4be-3f63729513e0"
      },
      "execution_count": 163,
      "outputs": [
        {
          "output_type": "execute_result",
          "data": {
            "text/plain": [
              "3207.4615275657484"
            ]
          },
          "metadata": {},
          "execution_count": 163
        }
      ]
    },
    {
      "cell_type": "code",
      "source": [
        "#scikit learn\n",
        "from sklearn.metrics import mean_squared_error\n",
        "\n",
        "mean_squared_error(test['y'], forecast['yhat'], squared=False)"
      ],
      "metadata": {
        "colab": {
          "base_uri": "https://localhost:8080/"
        },
        "id": "e-B1d5yqIZCK",
        "outputId": "f789d033-19dd-43e5-caf1-20a0e7ac0273"
      },
      "execution_count": 181,
      "outputs": [
        {
          "output_type": "execute_result",
          "data": {
            "text/plain": [
              "3207.4615275657525"
            ]
          },
          "metadata": {},
          "execution_count": 181
        }
      ]
    },
    {
      "cell_type": "markdown",
      "source": [
        "## Question `16`"
      ],
      "metadata": {
        "id": "Ta_uCLIwKNS1"
      }
    },
    {
      "cell_type": "code",
      "source": [
        "model.plot(forecast)\n",
        "plt.show()\n"
      ],
      "metadata": {
        "colab": {
          "base_uri": "https://localhost:8080/",
          "height": 580
        },
        "id": "y2AP1lPgyyWk",
        "outputId": "827c7e87-6cab-4b2b-fadb-7cc258e2c4b5"
      },
      "execution_count": 182,
      "outputs": [
        {
          "output_type": "display_data",
          "data": {
            "text/plain": [
              "<Figure size 1000x600 with 1 Axes>"
            ],
            "image/png": "[encoded data removed]"
          },
          "metadata": {}
        }
      ]
    },
    {
      "cell_type": "markdown",
      "source": [
        "## Question 17"
      ],
      "metadata": {
        "id": "n0qKPG6SKw58"
      }
    },
    {
      "cell_type": "markdown",
      "source": [
        "Renaming and daily sampling:"
      ],
      "metadata": {
        "id": "Fjf4vyQNK7ov"
      }
    },
    {
      "cell_type": "code",
      "source": [
        "df_new2 = df.rename(columns={ \"FullDate\": \"ds\" ,\"SysLoad\" : \"add1\" , \"Tmax\" : \"add2\",\"GasPrice\": \"add3\" ,\"ElecPrice\" : \"y\" })\n",
        "df_new2 = df_new2.set_index('ds')\n",
        "df_daily2 = df_new2.resample( 'D' ).sum()"
      ],
      "metadata": {
        "id": "L-TOBiulcPg7"
      },
      "execution_count": 127,
      "outputs": []
    },
    {
      "cell_type": "code",
      "source": [
        "train2=df_daily2[0:2757]"
      ],
      "metadata": {
        "id": "VvT0IFjSdeLg"
      },
      "execution_count": 128,
      "outputs": []
    },
    {
      "cell_type": "code",
      "source": [
        "test2=df_daily2[2757:]"
      ],
      "metadata": {
        "id": "nHnpJWH3dgEw"
      },
      "execution_count": 129,
      "outputs": []
    },
    {
      "cell_type": "code",
      "source": [
        "train2=train2.reset_index()"
      ],
      "metadata": {
        "id": "LhS8EHJx2hWK"
      },
      "execution_count": 130,
      "outputs": []
    },
    {
      "cell_type": "code",
      "source": [
        "modelf = Prophet()\n",
        "modelf.add_regressor('add1')\n",
        "modelf.add_regressor('add2')\n",
        "modelf.add_regressor('add3')\n",
        "#modelf.fit(train2[['ds','add1','add2','add3','y']])\n",
        "modelf.fit(train2)"
      ],
      "metadata": {
        "id": "axZMc-pXdooR",
        "colab": {
          "base_uri": "https://localhost:8080/"
        },
        "outputId": "910fa9a8-cb3e-4c89-c79c-6a35edeb877f"
      },
      "execution_count": 184,
      "outputs": [
        {
          "output_type": "stream",
          "name": "stderr",
          "text": [
            "INFO:prophet:Disabling daily seasonality. Run prophet with daily_seasonality=True to override this.\n",
            "DEBUG:cmdstanpy:input tempfile: /tmp/tmplzrg_f2n/bi3rxsod.json\n",
            "DEBUG:cmdstanpy:input tempfile: /tmp/tmplzrg_f2n/az3io2q2.json\n",
            "DEBUG:cmdstanpy:idx 0\n",
            "DEBUG:cmdstanpy:running CmdStan, num_threads: None\n",
            "DEBUG:cmdstanpy:CmdStan args: ['/usr/local/lib/python3.10/dist-packages/prophet/stan_model/prophet_model.bin', 'random', 'seed=9159', 'data', 'file=/tmp/tmplzrg_f2n/bi3rxsod.json', 'init=/tmp/tmplzrg_f2n/az3io2q2.json', 'output', 'file=/tmp/tmplzrg_f2n/prophet_modelqg0gxvwv/prophet_model-20230801182008.csv', 'method=optimize', 'algorithm=lbfgs', 'iter=10000']\n",
            "18:20:08 - cmdstanpy - INFO - Chain [1] start processing\n",
            "INFO:cmdstanpy:Chain [1] start processing\n",
            "18:20:09 - cmdstanpy - INFO - Chain [1] done processing\n",
            "INFO:cmdstanpy:Chain [1] done processing\n"
          ]
        },
        {
          "output_type": "execute_result",
          "data": {
            "text/plain": [
              "<prophet.forecaster.Prophet at 0x7e963d3cc3d0>"
            ]
          },
          "metadata": {},
          "execution_count": 184
        }
      ]
    },
    {
      "cell_type": "code",
      "source": [
        "test2=test2.reset_index()"
      ],
      "metadata": {
        "id": "Cjcb7OQCNf27"
      },
      "execution_count": 139,
      "outputs": []
    },
    {
      "cell_type": "code",
      "source": [
        "#forecast2 = modelf.predict(test2[['ds','add1','add2','add3']])\n",
        "forecast2 = modelf.predict(test2.drop(columns=\"y\"))"
      ],
      "metadata": {
        "id": "yWwNndHPME0r"
      },
      "execution_count": 185,
      "outputs": []
    },
    {
      "cell_type": "code",
      "source": [
        "MAPE(test2['y'], forecast2['yhat'])"
      ],
      "metadata": {
        "colab": {
          "base_uri": "https://localhost:8080/"
        },
        "id": "gf9wgxPVNmiQ",
        "outputId": "01947f8c-ebb9-4d58-c720-65961a2414ad"
      },
      "execution_count": 186,
      "outputs": [
        {
          "output_type": "execute_result",
          "data": {
            "text/plain": [
              "426.8633694599588"
            ]
          },
          "metadata": {},
          "execution_count": 186
        }
      ]
    },
    {
      "cell_type": "code",
      "source": [
        "#sklearn\n",
        "from sklearn.metrics import mean_absolute_percentage_error\n",
        "mean_absolute_percentage_error(test2['y'], forecast2['yhat'])*100"
      ],
      "metadata": {
        "colab": {
          "base_uri": "https://localhost:8080/"
        },
        "id": "k3KjiVAQQ1kB",
        "outputId": "995431d1-0621-4df1-b25c-e16903b42117"
      },
      "execution_count": 187,
      "outputs": [
        {
          "output_type": "execute_result",
          "data": {
            "text/plain": [
              "231.4801729222889"
            ]
          },
          "metadata": {},
          "execution_count": 187
        }
      ]
    },
    {
      "cell_type": "markdown",
      "source": [
        "## Question 18"
      ],
      "metadata": {
        "id": "SMZn7hn7Qfee"
      }
    },
    {
      "cell_type": "code",
      "source": [
        "RMSE(test2['y'], forecast2['yhat'])"
      ],
      "metadata": {
        "colab": {
          "base_uri": "https://localhost:8080/"
        },
        "id": "LvP8GlauQegj",
        "outputId": "dcf8d681-3348-401e-aad2-ab0014cfc6df"
      },
      "execution_count": 188,
      "outputs": [
        {
          "output_type": "execute_result",
          "data": {
            "text/plain": [
              "2967.87021823757"
            ]
          },
          "metadata": {},
          "execution_count": 188
        }
      ]
    },
    {
      "cell_type": "markdown",
      "source": [
        "## Question 19"
      ],
      "metadata": {
        "id": "jZsrSDGGRP9T"
      }
    },
    {
      "cell_type": "code",
      "source": [
        "modelf.plot(forecast2)\n",
        "plt.show()"
      ],
      "metadata": {
        "colab": {
          "base_uri": "https://localhost:8080/",
          "height": 580
        },
        "id": "8edWFV7TROKW",
        "outputId": "46f8d484-756e-4964-c22e-025cffac0ae3"
      },
      "execution_count": 189,
      "outputs": [
        {
          "output_type": "display_data",
          "data": {
            "text/plain": [
              "<Figure size 1000x600 with 1 Axes>"
            ],
            "image/png": "[encoded data removed]"
          },
          "metadata": {}
        }
      ]
    },
    {
      "cell_type": "markdown",
      "source": [
        "## Question 20"
      ],
      "metadata": {
        "id": "Wqp3819NRc_T"
      }
    },
    {
      "cell_type": "code",
      "source": [
        "df_new3 = df.rename(columns={ \"FullDate\": \"ds\" ,\"SysLoad\" : \"add1\" , \"GasPrice\": \"add2\" ,\"ElecPrice\" : \"y\" })\n",
        "df_new3 = df_new3.set_index('ds')\n",
        "df_daily3 = df_new3.resample( 'D' ).sum()"
      ],
      "metadata": {
        "id": "RY8BTYkwU2-z"
      },
      "execution_count": 190,
      "outputs": []
    },
    {
      "cell_type": "code",
      "source": [
        "train3=df_daily3[0:2757]"
      ],
      "metadata": {
        "id": "kmJswFtJUyO-"
      },
      "execution_count": 191,
      "outputs": []
    },
    {
      "cell_type": "code",
      "source": [
        "test3=df_daily3[0:2757]"
      ],
      "metadata": {
        "id": "2hBmNWY-VESf"
      },
      "execution_count": 192,
      "outputs": []
    },
    {
      "cell_type": "code",
      "source": [
        "train3=train3.reset_index()"
      ],
      "metadata": {
        "id": "K25ZG6m9VWFo"
      },
      "execution_count": 196,
      "outputs": []
    },
    {
      "cell_type": "code",
      "source": [
        "test3=test3.reset_index()"
      ],
      "metadata": {
        "id": "A0dfr-igVZRX"
      },
      "execution_count": 197,
      "outputs": []
    },
    {
      "cell_type": "code",
      "source": [
        "modelm = Prophet()\n",
        "modelm.add_regressor('add1')\n",
        "modelm.add_regressor('add2')\n",
        "#modelf.fit(train2[['ds','add1','add2','y']])\n",
        "modelm.fit(train3.drop(columns=\"Tmax\"))"
      ],
      "metadata": {
        "colab": {
          "base_uri": "https://localhost:8080/"
        },
        "id": "Qj4IKbxWUSA0",
        "outputId": "1282f6da-6606-4c2f-9d48-e01bef82074e"
      },
      "execution_count": 198,
      "outputs": [
        {
          "output_type": "stream",
          "name": "stderr",
          "text": [
            "INFO:prophet:Disabling daily seasonality. Run prophet with daily_seasonality=True to override this.\n",
            "DEBUG:cmdstanpy:input tempfile: /tmp/tmplzrg_f2n/70wdy58o.json\n",
            "DEBUG:cmdstanpy:input tempfile: /tmp/tmplzrg_f2n/4w44gf1q.json\n",
            "DEBUG:cmdstanpy:idx 0\n",
            "DEBUG:cmdstanpy:running CmdStan, num_threads: None\n",
            "DEBUG:cmdstanpy:CmdStan args: ['/usr/local/lib/python3.10/dist-packages/prophet/stan_model/prophet_model.bin', 'random', 'seed=48981', 'data', 'file=/tmp/tmplzrg_f2n/70wdy58o.json', 'init=/tmp/tmplzrg_f2n/4w44gf1q.json', 'output', 'file=/tmp/tmplzrg_f2n/prophet_modelrvidex0h/prophet_model-20230801183125.csv', 'method=optimize', 'algorithm=lbfgs', 'iter=10000']\n",
            "18:31:25 - cmdstanpy - INFO - Chain [1] start processing\n",
            "INFO:cmdstanpy:Chain [1] start processing\n",
            "18:31:25 - cmdstanpy - INFO - Chain [1] done processing\n",
            "INFO:cmdstanpy:Chain [1] done processing\n"
          ]
        },
        {
          "output_type": "execute_result",
          "data": {
            "text/plain": [
              "<prophet.forecaster.Prophet at 0x7e963d15d780>"
            ]
          },
          "metadata": {},
          "execution_count": 198
        }
      ]
    },
    {
      "cell_type": "code",
      "source": [
        "forecast3 = modelm.predict(test3.drop(columns=[\"y\",\"Tmax\"]))"
      ],
      "metadata": {
        "id": "YvLPFUxmUnTH"
      },
      "execution_count": 199,
      "outputs": []
    },
    {
      "cell_type": "code",
      "source": [
        "MAPE(test3['y'], forecast3['yhat'])"
      ],
      "metadata": {
        "colab": {
          "base_uri": "https://localhost:8080/"
        },
        "id": "-Mw-rlE3VN6V",
        "outputId": "b1202025-6cb2-4d4f-9de6-cf05d9e4a1ed"
      },
      "execution_count": 200,
      "outputs": [
        {
          "output_type": "execute_result",
          "data": {
            "text/plain": [
              "335.5049957163184"
            ]
          },
          "metadata": {},
          "execution_count": 200
        }
      ]
    }
  ],
  "metadata": {
    "colab": {
      "provenance": []
    },
    "kernelspec": {
      "display_name": "Python 3",
      "name": "python3"
    },
    "language_info": {
      "name": "python"
    }
  },
  "nbformat": 4,
  "nbformat_minor": 0
}